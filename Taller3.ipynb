{
  "nbformat": 4,
  "nbformat_minor": 0,
  "metadata": {
    "kernelspec": {
      "display_name": "Python 3",
      "language": "python",
      "name": "python3"
    },
    "language_info": {
      "codemirror_mode": {
        "name": "ipython",
        "version": 3
      },
      "file_extension": ".py",
      "mimetype": "text/x-python",
      "name": "python",
      "nbconvert_exporter": "python",
      "pygments_lexer": "ipython3",
      "version": "3.8.8"
    },
    "colab": {
      "name": "Taller_3ipynb",
      "provenance": [],
      "collapsed_sections": []
    }
  },
  "cells": [
    {
      "cell_type": "markdown",
      "metadata": {
        "id": "QXNjQOvAfest"
      },
      "source": [
        "# Taller "
      ]
    },
    {
      "cell_type": "markdown",
      "metadata": {
        "id": "Cr8R2sxZfesw"
      },
      "source": [
        "En este taller trabajará con dos dataset  'title.csv' y 'cast.csv'. El archivo 'title.csv' contiene la lista de películas con el año de estreno; mientras que el archivo 'cast.csv' tiene cinco columnas que almacenan el título de la película, año de estreno, elenco de estrellas, tipo (actor / actriz), personajes y calificaciones de los actores, como se muestra a continuación,"
      ]
    },
    {
      "cell_type": "code",
      "metadata": {
        "id": "xyUq7wOsfesx"
      },
      "source": [
        "#En esta celda se van a dejar  las librerías que usará a lo largo del taller\n",
        "import pandas as pd"
      ],
      "execution_count": 2,
      "outputs": []
    },
    {
      "cell_type": "code",
      "metadata": {
        "id": "7j0qxUwfGPaJ"
      },
      "source": [
        "title= pd.read_csv('titles.csv')\n",
        "cast= pd.read_csv('cast.csv')"
      ],
      "execution_count": 25,
      "outputs": []
    },
    {
      "cell_type": "code",
      "metadata": {
        "scrolled": true,
        "colab": {
          "base_uri": "https://localhost:8080/",
          "height": 206
        },
        "id": "U2CwsUcxfes1",
        "outputId": "753f0090-ae9e-49f0-8a3d-365d6e29a58f"
      },
      "source": [
        "#Despliegue una muestra del dataset title (head, tail, sample)\n",
        "title.head()"
      ],
      "execution_count": 17,
      "outputs": [
        {
          "output_type": "execute_result",
          "data": {
            "text/html": [
              "<div>\n",
              "<style scoped>\n",
              "    .dataframe tbody tr th:only-of-type {\n",
              "        vertical-align: middle;\n",
              "    }\n",
              "\n",
              "    .dataframe tbody tr th {\n",
              "        vertical-align: top;\n",
              "    }\n",
              "\n",
              "    .dataframe thead th {\n",
              "        text-align: right;\n",
              "    }\n",
              "</style>\n",
              "<table border=\"1\" class=\"dataframe\">\n",
              "  <thead>\n",
              "    <tr style=\"text-align: right;\">\n",
              "      <th></th>\n",
              "      <th>title</th>\n",
              "      <th>year</th>\n",
              "    </tr>\n",
              "  </thead>\n",
              "  <tbody>\n",
              "    <tr>\n",
              "      <th>0</th>\n",
              "      <td>Mahler</td>\n",
              "      <td>1974</td>\n",
              "    </tr>\n",
              "    <tr>\n",
              "      <th>1</th>\n",
              "      <td>Ogon, voda i... mednye truby</td>\n",
              "      <td>1968</td>\n",
              "    </tr>\n",
              "    <tr>\n",
              "      <th>2</th>\n",
              "      <td>Ana Nojoom bent alasherah wamotalagah</td>\n",
              "      <td>2014</td>\n",
              "    </tr>\n",
              "    <tr>\n",
              "      <th>3</th>\n",
              "      <td>Malu de Bicicleta</td>\n",
              "      <td>2010</td>\n",
              "    </tr>\n",
              "    <tr>\n",
              "      <th>4</th>\n",
              "      <td>Nazareno Apostol: Boy Ahas</td>\n",
              "      <td>1989</td>\n",
              "    </tr>\n",
              "  </tbody>\n",
              "</table>\n",
              "</div>"
            ],
            "text/plain": [
              "                                   title  year\n",
              "0                                 Mahler  1974\n",
              "1           Ogon, voda i... mednye truby  1968\n",
              "2  Ana Nojoom bent alasherah wamotalagah  2014\n",
              "3                      Malu de Bicicleta  2010\n",
              "4             Nazareno Apostol: Boy Ahas  1989"
            ]
          },
          "metadata": {},
          "execution_count": 17
        }
      ]
    },
    {
      "cell_type": "code",
      "metadata": {
        "scrolled": true,
        "colab": {
          "base_uri": "https://localhost:8080/",
          "height": 206
        },
        "id": "mCR2vK50fes2",
        "outputId": "8e966936-7564-4622-d9a6-fc4b617bd44c"
      },
      "source": [
        "title.tail()"
      ],
      "execution_count": 26,
      "outputs": [
        {
          "output_type": "execute_result",
          "data": {
            "text/html": [
              "<div>\n",
              "<style scoped>\n",
              "    .dataframe tbody tr th:only-of-type {\n",
              "        vertical-align: middle;\n",
              "    }\n",
              "\n",
              "    .dataframe tbody tr th {\n",
              "        vertical-align: top;\n",
              "    }\n",
              "\n",
              "    .dataframe thead th {\n",
              "        text-align: right;\n",
              "    }\n",
              "</style>\n",
              "<table border=\"1\" class=\"dataframe\">\n",
              "  <thead>\n",
              "    <tr style=\"text-align: right;\">\n",
              "      <th></th>\n",
              "      <th>title</th>\n",
              "      <th>year</th>\n",
              "    </tr>\n",
              "  </thead>\n",
              "  <tbody>\n",
              "    <tr>\n",
              "      <th>230402</th>\n",
              "      <td>El lobo negro</td>\n",
              "      <td>1981</td>\n",
              "    </tr>\n",
              "    <tr>\n",
              "      <th>230403</th>\n",
              "      <td>Komu na Rusi zhit...</td>\n",
              "      <td>1989</td>\n",
              "    </tr>\n",
              "    <tr>\n",
              "      <th>230404</th>\n",
              "      <td>Senotaji</td>\n",
              "      <td>2013</td>\n",
              "    </tr>\n",
              "    <tr>\n",
              "      <th>230405</th>\n",
              "      <td>The Leopard Woman</td>\n",
              "      <td>1920</td>\n",
              "    </tr>\n",
              "    <tr>\n",
              "      <th>230406</th>\n",
              "      <td>Mio caro assassino</td>\n",
              "      <td>1972</td>\n",
              "    </tr>\n",
              "  </tbody>\n",
              "</table>\n",
              "</div>"
            ],
            "text/plain": [
              "                       title  year\n",
              "230402         El lobo negro  1981\n",
              "230403  Komu na Rusi zhit...  1989\n",
              "230404              Senotaji  2013\n",
              "230405     The Leopard Woman  1920\n",
              "230406    Mio caro assassino  1972"
            ]
          },
          "metadata": {},
          "execution_count": 26
        }
      ]
    },
    {
      "cell_type": "code",
      "metadata": {
        "colab": {
          "base_uri": "https://localhost:8080/",
          "height": 81
        },
        "id": "4hCP6ultfes2",
        "outputId": "0e35f04e-4d00-4d5f-b6bf-53e625ccc3df"
      },
      "source": [
        "title.sample()"
      ],
      "execution_count": 19,
      "outputs": [
        {
          "output_type": "execute_result",
          "data": {
            "text/html": [
              "<div>\n",
              "<style scoped>\n",
              "    .dataframe tbody tr th:only-of-type {\n",
              "        vertical-align: middle;\n",
              "    }\n",
              "\n",
              "    .dataframe tbody tr th {\n",
              "        vertical-align: top;\n",
              "    }\n",
              "\n",
              "    .dataframe thead th {\n",
              "        text-align: right;\n",
              "    }\n",
              "</style>\n",
              "<table border=\"1\" class=\"dataframe\">\n",
              "  <thead>\n",
              "    <tr style=\"text-align: right;\">\n",
              "      <th></th>\n",
              "      <th>title</th>\n",
              "      <th>year</th>\n",
              "    </tr>\n",
              "  </thead>\n",
              "  <tbody>\n",
              "    <tr>\n",
              "      <th>89718</th>\n",
              "      <td>Kizu</td>\n",
              "      <td>1988</td>\n",
              "    </tr>\n",
              "  </tbody>\n",
              "</table>\n",
              "</div>"
            ],
            "text/plain": [
              "      title  year\n",
              "89718  Kizu  1988"
            ]
          },
          "metadata": {},
          "execution_count": 19
        }
      ]
    },
    {
      "cell_type": "code",
      "metadata": {
        "colab": {
          "base_uri": "https://localhost:8080/",
          "height": 206
        },
        "id": "vhe0Omc5fes3",
        "outputId": "7a05de7a-f2d5-4c5e-d698-6bd32bc29411"
      },
      "source": [
        "#Despliegue una muestra del dataset cast  (head, tail, sample)\n",
        "cast.head()"
      ],
      "execution_count": 27,
      "outputs": [
        {
          "output_type": "execute_result",
          "data": {
            "text/html": [
              "<div>\n",
              "<style scoped>\n",
              "    .dataframe tbody tr th:only-of-type {\n",
              "        vertical-align: middle;\n",
              "    }\n",
              "\n",
              "    .dataframe tbody tr th {\n",
              "        vertical-align: top;\n",
              "    }\n",
              "\n",
              "    .dataframe thead th {\n",
              "        text-align: right;\n",
              "    }\n",
              "</style>\n",
              "<table border=\"1\" class=\"dataframe\">\n",
              "  <thead>\n",
              "    <tr style=\"text-align: right;\">\n",
              "      <th></th>\n",
              "      <th>title</th>\n",
              "      <th>year</th>\n",
              "      <th>name</th>\n",
              "      <th>type</th>\n",
              "      <th>character</th>\n",
              "      <th>n</th>\n",
              "    </tr>\n",
              "  </thead>\n",
              "  <tbody>\n",
              "    <tr>\n",
              "      <th>0</th>\n",
              "      <td>Closet Monster</td>\n",
              "      <td>2015</td>\n",
              "      <td>Buffy #1</td>\n",
              "      <td>actor</td>\n",
              "      <td>Buffy 4</td>\n",
              "      <td>31.0</td>\n",
              "    </tr>\n",
              "    <tr>\n",
              "      <th>1</th>\n",
              "      <td>Suuri illusioni</td>\n",
              "      <td>1985</td>\n",
              "      <td>Homo $</td>\n",
              "      <td>actor</td>\n",
              "      <td>Guests</td>\n",
              "      <td>22.0</td>\n",
              "    </tr>\n",
              "    <tr>\n",
              "      <th>2</th>\n",
              "      <td>Battle of the Sexes</td>\n",
              "      <td>2017</td>\n",
              "      <td>$hutter</td>\n",
              "      <td>actor</td>\n",
              "      <td>Bobby Riggs Fan</td>\n",
              "      <td>10.0</td>\n",
              "    </tr>\n",
              "    <tr>\n",
              "      <th>3</th>\n",
              "      <td>Secret in Their Eyes</td>\n",
              "      <td>2015</td>\n",
              "      <td>$hutter</td>\n",
              "      <td>actor</td>\n",
              "      <td>2002 Dodger Fan</td>\n",
              "      <td>NaN</td>\n",
              "    </tr>\n",
              "    <tr>\n",
              "      <th>4</th>\n",
              "      <td>Steve Jobs</td>\n",
              "      <td>2015</td>\n",
              "      <td>$hutter</td>\n",
              "      <td>actor</td>\n",
              "      <td>1988 Opera House Patron</td>\n",
              "      <td>NaN</td>\n",
              "    </tr>\n",
              "  </tbody>\n",
              "</table>\n",
              "</div>"
            ],
            "text/plain": [
              "                  title  year      name   type                character     n\n",
              "0        Closet Monster  2015  Buffy #1  actor                  Buffy 4  31.0\n",
              "1       Suuri illusioni  1985    Homo $  actor                   Guests  22.0\n",
              "2   Battle of the Sexes  2017   $hutter  actor          Bobby Riggs Fan  10.0\n",
              "3  Secret in Their Eyes  2015   $hutter  actor          2002 Dodger Fan   NaN\n",
              "4            Steve Jobs  2015   $hutter  actor  1988 Opera House Patron   NaN"
            ]
          },
          "metadata": {},
          "execution_count": 27
        }
      ]
    },
    {
      "cell_type": "code",
      "metadata": {
        "colab": {
          "base_uri": "https://localhost:8080/",
          "height": 206
        },
        "id": "nOjvJjoSfes4",
        "outputId": "38378385-96b2-4726-d37d-b62ae0bd33fd"
      },
      "source": [
        "cast.tail()"
      ],
      "execution_count": 28,
      "outputs": [
        {
          "output_type": "execute_result",
          "data": {
            "text/html": [
              "<div>\n",
              "<style scoped>\n",
              "    .dataframe tbody tr th:only-of-type {\n",
              "        vertical-align: middle;\n",
              "    }\n",
              "\n",
              "    .dataframe tbody tr th {\n",
              "        vertical-align: top;\n",
              "    }\n",
              "\n",
              "    .dataframe thead th {\n",
              "        text-align: right;\n",
              "    }\n",
              "</style>\n",
              "<table border=\"1\" class=\"dataframe\">\n",
              "  <thead>\n",
              "    <tr style=\"text-align: right;\">\n",
              "      <th></th>\n",
              "      <th>title</th>\n",
              "      <th>year</th>\n",
              "      <th>name</th>\n",
              "      <th>type</th>\n",
              "      <th>character</th>\n",
              "      <th>n</th>\n",
              "    </tr>\n",
              "  </thead>\n",
              "  <tbody>\n",
              "    <tr>\n",
              "      <th>3564645</th>\n",
              "      <td>Stuttur Frakki</td>\n",
              "      <td>1993</td>\n",
              "      <td>Sveinbj?rg ??rhallsd?ttir</td>\n",
              "      <td>actress</td>\n",
              "      <td>Flugfreyja</td>\n",
              "      <td>24.0</td>\n",
              "    </tr>\n",
              "    <tr>\n",
              "      <th>3564646</th>\n",
              "      <td>Foxtrot</td>\n",
              "      <td>1988</td>\n",
              "      <td>Lilja ??risd?ttir</td>\n",
              "      <td>actress</td>\n",
              "      <td>D?ra</td>\n",
              "      <td>24.0</td>\n",
              "    </tr>\n",
              "    <tr>\n",
              "      <th>3564647</th>\n",
              "      <td>Niceland (Population. 1.000.002)</td>\n",
              "      <td>2004</td>\n",
              "      <td>Sigr??ur J?na ??risd?ttir</td>\n",
              "      <td>actress</td>\n",
              "      <td>Woman in Bus</td>\n",
              "      <td>26.0</td>\n",
              "    </tr>\n",
              "    <tr>\n",
              "      <th>3564648</th>\n",
              "      <td>U.S.S.S.S...</td>\n",
              "      <td>2003</td>\n",
              "      <td>Krist?n Andrea ??r?ard?ttir</td>\n",
              "      <td>actress</td>\n",
              "      <td>Afgr.dama ? bens?nst??</td>\n",
              "      <td>17.0</td>\n",
              "    </tr>\n",
              "    <tr>\n",
              "      <th>3564649</th>\n",
              "      <td>Bye Bye Blue Bird</td>\n",
              "      <td>1999</td>\n",
              "      <td>Rosa ? R?gvu</td>\n",
              "      <td>actress</td>\n",
              "      <td>Pensionatv?rtinde</td>\n",
              "      <td>NaN</td>\n",
              "    </tr>\n",
              "  </tbody>\n",
              "</table>\n",
              "</div>"
            ],
            "text/plain": [
              "                                    title  year  ...               character     n\n",
              "3564645                    Stuttur Frakki  1993  ...              Flugfreyja  24.0\n",
              "3564646                           Foxtrot  1988  ...                    D?ra  24.0\n",
              "3564647  Niceland (Population. 1.000.002)  2004  ...            Woman in Bus  26.0\n",
              "3564648                      U.S.S.S.S...  2003  ...  Afgr.dama ? bens?nst??  17.0\n",
              "3564649                 Bye Bye Blue Bird  1999  ...       Pensionatv?rtinde   NaN\n",
              "\n",
              "[5 rows x 6 columns]"
            ]
          },
          "metadata": {},
          "execution_count": 28
        }
      ]
    },
    {
      "cell_type": "code",
      "metadata": {
        "colab": {
          "base_uri": "https://localhost:8080/",
          "height": 143
        },
        "id": "Y1tPWRgnfes4",
        "outputId": "47b019b3-93f6-410e-c2d6-25c2eb971ade"
      },
      "source": [
        "cast.sample(3)"
      ],
      "execution_count": 29,
      "outputs": [
        {
          "output_type": "execute_result",
          "data": {
            "text/html": [
              "<div>\n",
              "<style scoped>\n",
              "    .dataframe tbody tr th:only-of-type {\n",
              "        vertical-align: middle;\n",
              "    }\n",
              "\n",
              "    .dataframe tbody tr th {\n",
              "        vertical-align: top;\n",
              "    }\n",
              "\n",
              "    .dataframe thead th {\n",
              "        text-align: right;\n",
              "    }\n",
              "</style>\n",
              "<table border=\"1\" class=\"dataframe\">\n",
              "  <thead>\n",
              "    <tr style=\"text-align: right;\">\n",
              "      <th></th>\n",
              "      <th>title</th>\n",
              "      <th>year</th>\n",
              "      <th>name</th>\n",
              "      <th>type</th>\n",
              "      <th>character</th>\n",
              "      <th>n</th>\n",
              "    </tr>\n",
              "  </thead>\n",
              "  <tbody>\n",
              "    <tr>\n",
              "      <th>3493625</th>\n",
              "      <td>Sette a Tebe</td>\n",
              "      <td>1964</td>\n",
              "      <td>Lena von Martens</td>\n",
              "      <td>actress</td>\n",
              "      <td>Doride</td>\n",
              "      <td>2.0</td>\n",
              "    </tr>\n",
              "    <tr>\n",
              "      <th>1541519</th>\n",
              "      <td>Super Shark</td>\n",
              "      <td>2011</td>\n",
              "      <td>Jeff Murray</td>\n",
              "      <td>actor</td>\n",
              "      <td>Jake</td>\n",
              "      <td>21.0</td>\n",
              "    </tr>\n",
              "    <tr>\n",
              "      <th>477335</th>\n",
              "      <td>Mr. What</td>\n",
              "      <td>2015</td>\n",
              "      <td>David Cubberly</td>\n",
              "      <td>actor</td>\n",
              "      <td>Attorney</td>\n",
              "      <td>NaN</td>\n",
              "    </tr>\n",
              "  </tbody>\n",
              "</table>\n",
              "</div>"
            ],
            "text/plain": [
              "                title  year              name     type character     n\n",
              "3493625  Sette a Tebe  1964  Lena von Martens  actress    Doride   2.0\n",
              "1541519   Super Shark  2011       Jeff Murray    actor      Jake  21.0\n",
              "477335       Mr. What  2015    David Cubberly    actor  Attorney   NaN"
            ]
          },
          "metadata": {},
          "execution_count": 29
        }
      ]
    },
    {
      "cell_type": "code",
      "metadata": {
        "scrolled": true,
        "colab": {
          "base_uri": "https://localhost:8080/"
        },
        "id": "dymP1qQ4fes5",
        "outputId": "3e9ad59c-7250-4bd5-bb90-7f6ae4535115"
      },
      "source": [
        "#Cuantos nomrbes de peliculas hay en title y cuantos son distintos\n",
        "title.count()\n"
      ],
      "execution_count": 31,
      "outputs": [
        {
          "output_type": "execute_result",
          "data": {
            "text/plain": [
              "title    230407\n",
              "year     230407\n",
              "dtype: int64"
            ]
          },
          "metadata": {},
          "execution_count": 31
        }
      ]
    },
    {
      "cell_type": "code",
      "metadata": {
        "scrolled": false,
        "colab": {
          "base_uri": "https://localhost:8080/"
        },
        "id": "CaCFeX07fes6",
        "outputId": "649dae35-0d38-47c9-b92c-12f58cd7b6c4"
      },
      "source": [
        "len(title.title.unique())"
      ],
      "execution_count": 32,
      "outputs": [
        {
          "output_type": "execute_result",
          "data": {
            "text/plain": [
              "210691"
            ]
          },
          "metadata": {},
          "execution_count": 32
        }
      ]
    },
    {
      "cell_type": "code",
      "metadata": {
        "colab": {
          "base_uri": "https://localhost:8080/"
        },
        "id": "UGVjMyslfes6",
        "outputId": "ee54f13f-dece-48c7-93e9-813f5b79dad2"
      },
      "source": [
        "#len(set(title.title))\n",
        "len(title.groupby('title').count())"
      ],
      "execution_count": 33,
      "outputs": [
        {
          "output_type": "execute_result",
          "data": {
            "text/plain": [
              "210691"
            ]
          },
          "metadata": {},
          "execution_count": 33
        }
      ]
    },
    {
      "cell_type": "code",
      "metadata": {
        "scrolled": true,
        "colab": {
          "base_uri": "https://localhost:8080/"
        },
        "id": "05JEzzN3fes7",
        "outputId": "17cf17ea-2dff-499f-e60a-47d1ec46e8ee"
      },
      "source": [
        "#Cuantas peliculas por año en el dataset titles y cuantas en el dataset cast\n",
        "title.groupby([\"year\"])[\"title\"].count()"
      ],
      "execution_count": 34,
      "outputs": [
        {
          "output_type": "execute_result",
          "data": {
            "text/plain": [
              "year\n",
              "1894      1\n",
              "1898      1\n",
              "1899      1\n",
              "1900      4\n",
              "1903      1\n",
              "       ... \n",
              "2020    104\n",
              "2021     15\n",
              "2022     12\n",
              "2023     10\n",
              "2024      1\n",
              "Name: title, Length: 125, dtype: int64"
            ]
          },
          "metadata": {},
          "execution_count": 34
        }
      ]
    },
    {
      "cell_type": "code",
      "metadata": {
        "colab": {
          "base_uri": "https://localhost:8080/"
        },
        "id": "TaWL-7f1fes7",
        "outputId": "87f5ccac-eefd-4ecb-a9dd-b5817a250164"
      },
      "source": [
        "cast.groupby([\"year\"])[\"title\"].count()"
      ],
      "execution_count": 35,
      "outputs": [
        {
          "output_type": "execute_result",
          "data": {
            "text/plain": [
              "year\n",
              "1894      3\n",
              "1900      2\n",
              "1905      1\n",
              "1906     17\n",
              "1907      5\n",
              "       ... \n",
              "2019    262\n",
              "2020    123\n",
              "2021     22\n",
              "2022     17\n",
              "2023      1\n",
              "Name: title, Length: 121, dtype: int64"
            ]
          },
          "metadata": {},
          "execution_count": 35
        }
      ]
    },
    {
      "cell_type": "code",
      "metadata": {
        "id": "3uv8TmMEfes7"
      },
      "source": [
        "# cuantas peliculas tienen por nombre \"Hamlet\"\n",
        "Num_Hamlet= title[title['title'] == 'Hamlet']\n"
      ],
      "execution_count": 36,
      "outputs": []
    },
    {
      "cell_type": "code",
      "metadata": {
        "colab": {
          "base_uri": "https://localhost:8080/"
        },
        "id": "M7ofhcpQfes8",
        "outputId": "a617ad78-eaed-40e7-e42a-6c79f0f383c8"
      },
      "source": [
        "Num_Hamlet.count()"
      ],
      "execution_count": 37,
      "outputs": [
        {
          "output_type": "execute_result",
          "data": {
            "text/plain": [
              "title    19\n",
              "year     19\n",
              "dtype: int64"
            ]
          },
          "metadata": {},
          "execution_count": 37
        }
      ]
    },
    {
      "cell_type": "code",
      "metadata": {
        "id": "r65ZrCS0fes8"
      },
      "source": [
        "#Cuantas peliculas son de nombre \"Carmen\" y son de antes de 1950\n",
        "Pelicula_Carmen = title[(title['title'] == 'Carmen') & (title['year'] <= 1950)]\n"
      ],
      "execution_count": 38,
      "outputs": []
    },
    {
      "cell_type": "code",
      "metadata": {
        "colab": {
          "base_uri": "https://localhost:8080/"
        },
        "id": "xrdQCCSEfes8",
        "outputId": "a6e93e39-9bad-4322-ee6d-23564557854d"
      },
      "source": [
        "Pelicula_Carmen.count()\n"
      ],
      "execution_count": 39,
      "outputs": [
        {
          "output_type": "execute_result",
          "data": {
            "text/plain": [
              "title    8\n",
              "year     8\n",
              "dtype: int64"
            ]
          },
          "metadata": {},
          "execution_count": 39
        }
      ]
    },
    {
      "cell_type": "code",
      "metadata": {
        "colab": {
          "base_uri": "https://localhost:8080/"
        },
        "id": "SwDp-jaZfes9",
        "outputId": "96ab540a-f3ad-4d9c-d898-14f459403d0c"
      },
      "source": [
        "# Titulos mas comunes en la historia filmografica\n",
        "title['title'].value_counts()"
      ],
      "execution_count": 40,
      "outputs": [
        {
          "output_type": "execute_result",
          "data": {
            "text/plain": [
              "Hamlet                  19\n",
              "Carmen                  16\n",
              "Macbeth                 15\n",
              "The Three Musketeers    11\n",
              "Othello                 11\n",
              "                        ..\n",
              "Driving Force            1\n",
              "Immanuel                 1\n",
              "Belial                   1\n",
              "Yavrum                   1\n",
              "Kattumakkan              1\n",
              "Name: title, Length: 210691, dtype: int64"
            ]
          },
          "metadata": {},
          "execution_count": 40
        }
      ]
    },
    {
      "cell_type": "code",
      "metadata": {
        "id": "woz7UNy1fes9"
      },
      "source": [
        "# Cual fue la primer pelicula hecha titulada \"Romeo and Juliet\"\n",
        "primer_pelicula_RoJu = title[title['title'] == 'Romeo and Juliet']\n"
      ],
      "execution_count": 41,
      "outputs": []
    },
    {
      "cell_type": "code",
      "metadata": {
        "colab": {
          "base_uri": "https://localhost:8080/",
          "height": 300
        },
        "id": "28RYnErvfes9",
        "outputId": "8d0fee16-129c-44eb-b335-3a700fe77bb2"
      },
      "source": [
        "primer_pelicula_RoJu"
      ],
      "execution_count": 42,
      "outputs": [
        {
          "output_type": "execute_result",
          "data": {
            "text/html": [
              "<div>\n",
              "<style scoped>\n",
              "    .dataframe tbody tr th:only-of-type {\n",
              "        vertical-align: middle;\n",
              "    }\n",
              "\n",
              "    .dataframe tbody tr th {\n",
              "        vertical-align: top;\n",
              "    }\n",
              "\n",
              "    .dataframe thead th {\n",
              "        text-align: right;\n",
              "    }\n",
              "</style>\n",
              "<table border=\"1\" class=\"dataframe\">\n",
              "  <thead>\n",
              "    <tr style=\"text-align: right;\">\n",
              "      <th></th>\n",
              "      <th>title</th>\n",
              "      <th>year</th>\n",
              "    </tr>\n",
              "  </thead>\n",
              "  <tbody>\n",
              "    <tr>\n",
              "      <th>16975</th>\n",
              "      <td>Romeo and Juliet</td>\n",
              "      <td>2014</td>\n",
              "    </tr>\n",
              "    <tr>\n",
              "      <th>82622</th>\n",
              "      <td>Romeo and Juliet</td>\n",
              "      <td>1936</td>\n",
              "    </tr>\n",
              "    <tr>\n",
              "      <th>87037</th>\n",
              "      <td>Romeo and Juliet</td>\n",
              "      <td>1954</td>\n",
              "    </tr>\n",
              "    <tr>\n",
              "      <th>124702</th>\n",
              "      <td>Romeo and Juliet</td>\n",
              "      <td>1916</td>\n",
              "    </tr>\n",
              "    <tr>\n",
              "      <th>144796</th>\n",
              "      <td>Romeo and Juliet</td>\n",
              "      <td>2013</td>\n",
              "    </tr>\n",
              "    <tr>\n",
              "      <th>147308</th>\n",
              "      <td>Romeo and Juliet</td>\n",
              "      <td>1947</td>\n",
              "    </tr>\n",
              "    <tr>\n",
              "      <th>185337</th>\n",
              "      <td>Romeo and Juliet</td>\n",
              "      <td>1968</td>\n",
              "    </tr>\n",
              "    <tr>\n",
              "      <th>196039</th>\n",
              "      <td>Romeo and Juliet</td>\n",
              "      <td>1966</td>\n",
              "    </tr>\n",
              "  </tbody>\n",
              "</table>\n",
              "</div>"
            ],
            "text/plain": [
              "                   title  year\n",
              "16975   Romeo and Juliet  2014\n",
              "82622   Romeo and Juliet  1936\n",
              "87037   Romeo and Juliet  1954\n",
              "124702  Romeo and Juliet  1916\n",
              "144796  Romeo and Juliet  2013\n",
              "147308  Romeo and Juliet  1947\n",
              "185337  Romeo and Juliet  1968\n",
              "196039  Romeo and Juliet  1966"
            ]
          },
          "metadata": {},
          "execution_count": 42
        }
      ]
    },
    {
      "cell_type": "code",
      "metadata": {
        "colab": {
          "base_uri": "https://localhost:8080/",
          "height": 81
        },
        "id": "tGcSXWOsfes-",
        "outputId": "3599a001-8f3e-440a-be9c-dc5203bf7d0f"
      },
      "source": [
        "primer_pelicula_RoJu.iloc[3:4]\n"
      ],
      "execution_count": 43,
      "outputs": [
        {
          "output_type": "execute_result",
          "data": {
            "text/html": [
              "<div>\n",
              "<style scoped>\n",
              "    .dataframe tbody tr th:only-of-type {\n",
              "        vertical-align: middle;\n",
              "    }\n",
              "\n",
              "    .dataframe tbody tr th {\n",
              "        vertical-align: top;\n",
              "    }\n",
              "\n",
              "    .dataframe thead th {\n",
              "        text-align: right;\n",
              "    }\n",
              "</style>\n",
              "<table border=\"1\" class=\"dataframe\">\n",
              "  <thead>\n",
              "    <tr style=\"text-align: right;\">\n",
              "      <th></th>\n",
              "      <th>title</th>\n",
              "      <th>year</th>\n",
              "    </tr>\n",
              "  </thead>\n",
              "  <tbody>\n",
              "    <tr>\n",
              "      <th>124702</th>\n",
              "      <td>Romeo and Juliet</td>\n",
              "      <td>1916</td>\n",
              "    </tr>\n",
              "  </tbody>\n",
              "</table>\n",
              "</div>"
            ],
            "text/plain": [
              "                   title  year\n",
              "124702  Romeo and Juliet  1916"
            ]
          },
          "metadata": {},
          "execution_count": 43
        }
      ]
    },
    {
      "cell_type": "code",
      "metadata": {
        "scrolled": true,
        "id": "juXaNTvZfes-"
      },
      "source": [
        "# Lista todas las peliculas que contengan la palabra \"Exorcist\" \n",
        "# ordenadas de la mas antigua a la mas reciente\n"
      ],
      "execution_count": null,
      "outputs": []
    },
    {
      "cell_type": "code",
      "metadata": {
        "colab": {
          "base_uri": "https://localhost:8080/"
        },
        "id": "tCyg4AZkfes-",
        "outputId": "c5a83baf-6091-4f70-87db-9a4e66c97f34"
      },
      "source": [
        "\n",
        "title[title['title'].str.contains(\"Exorcist\")].sort_values(['year'], ascending=[True,]),\n"
      ],
      "execution_count": 44,
      "outputs": [
        {
          "output_type": "execute_result",
          "data": {
            "text/plain": [
              "(                                         title  year\n",
              " 88003                             The Exorcist  1973\n",
              " 49658                  O Exorcista de Mulheres  1974\n",
              " 140519                Exorcist II: The Heretic  1977\n",
              " 220073                        Kung Fu Exorcist  1978\n",
              " 17375                         The Exorcist III  1990\n",
              " 132451                        Teenage Exorcist  1991\n",
              " 117797                 Exorcist: The Beginning  2004\n",
              " 94189        Dominion: Prequel to the Exorcist  2005\n",
              " 209250  Costa Chica: Confession of an Exorcist  2006\n",
              " 86354                      Exorcist Chronicles  2007\n",
              " 130686                      The Disco Exorcist  2011\n",
              " 57932                      Exorcist Chronicles  2013\n",
              " 69974                           Shark Exorcist  2015\n",
              " 51101                            Bad Exorcists  2015\n",
              " 151850                              Exorcistas  2015\n",
              " 60700                      Accidental Exorcist  2016\n",
              " 161093                       American Exorcist  2016\n",
              " 195615                    Diary of an Exorcist  2016\n",
              " 228642                  Exorcist House of Evil  2016,)"
            ]
          },
          "metadata": {},
          "execution_count": 44
        }
      ]
    },
    {
      "cell_type": "code",
      "metadata": {
        "id": "de0IlRmUfes_"
      },
      "source": [
        ""
      ],
      "execution_count": null,
      "outputs": []
    },
    {
      "cell_type": "code",
      "metadata": {
        "colab": {
          "base_uri": "https://localhost:8080/"
        },
        "id": "dpWV87P5fes_",
        "outputId": "c87669c9-b6f9-4940-978b-ce37c32f556d"
      },
      "source": [
        "# Cuantas peliculas fueron hechas en el año 1950?\n",
        "\n",
        "title.query(\"year == 1950\").count()"
      ],
      "execution_count": 45,
      "outputs": [
        {
          "output_type": "execute_result",
          "data": {
            "text/plain": [
              "title    1081\n",
              "year     1081\n",
              "dtype: int64"
            ]
          },
          "metadata": {},
          "execution_count": 45
        }
      ]
    },
    {
      "cell_type": "code",
      "metadata": {
        "colab": {
          "base_uri": "https://localhost:8080/"
        },
        "id": "j3y6gEzrfes_",
        "outputId": "0b179860-0963-4ae1-9171-04898ecec130"
      },
      "source": [
        "# Cuantas peliculas fueron despues del año 1970?\n",
        "title.query(\"year > 1970\").count()\n",
        "#peliculas_D1970 = title[(title['year'] > 1970)]"
      ],
      "execution_count": 46,
      "outputs": [
        {
          "output_type": "execute_result",
          "data": {
            "text/plain": [
              "title    164559\n",
              "year     164559\n",
              "dtype: int64"
            ]
          },
          "metadata": {},
          "execution_count": 46
        }
      ]
    },
    {
      "cell_type": "code",
      "metadata": {
        "id": "11afuitVfetA"
      },
      "source": [
        "# Cuantas peliculas fueron hechas de 1970 a 1979\n"
      ],
      "execution_count": 47,
      "outputs": []
    },
    {
      "cell_type": "code",
      "metadata": {
        "scrolled": true,
        "id": "C14yaEyufetA",
        "outputId": "f3d0690c-5b36-480a-c1c0-56676a5af5ab"
      },
      "source": [
        "title.loc[(title['year'] >= 1970) & (title['year'] <= 1979)].count()"
      ],
      "execution_count": null,
      "outputs": [
        {
          "data": {
            "text/plain": [
              "title    18508\n",
              "year     18508\n",
              "dtype: int64"
            ]
          },
          "execution_count": 31,
          "metadata": {},
          "output_type": "execute_result"
        }
      ]
    },
    {
      "cell_type": "markdown",
      "metadata": {
        "id": "Zo-imqA6fetA"
      },
      "source": [
        "Ahora se trabajara con el dataset de cast, importante tambien tener en cuneta que e sun dataset que se tendra que limpiar con el paso de las clases y dejarlo lo mas optimo posible"
      ]
    },
    {
      "cell_type": "code",
      "metadata": {
        "colab": {
          "base_uri": "https://localhost:8080/"
        },
        "id": "nvZn0NFffetB",
        "outputId": "c59520e1-3079-4ced-abbf-30866f6b5a20"
      },
      "source": [
        "cast.columns\n"
      ],
      "execution_count": 48,
      "outputs": [
        {
          "output_type": "execute_result",
          "data": {
            "text/plain": [
              "Index(['title', 'year', 'name', 'type', 'character', 'n'], dtype='object')"
            ]
          },
          "metadata": {},
          "execution_count": 48
        }
      ]
    },
    {
      "cell_type": "code",
      "metadata": {
        "id": "-TMmm_S7fetB"
      },
      "source": [
        "The_Godfather = cast[(cast[\"title\"]== \"The Godfather\")]\n"
      ],
      "execution_count": 49,
      "outputs": []
    },
    {
      "cell_type": "code",
      "metadata": {
        "colab": {
          "base_uri": "https://localhost:8080/"
        },
        "id": "lQJ_yGrNfetB",
        "outputId": "fe814731-039c-4d9f-8c82-1e5e863ff42e"
      },
      "source": [
        "len(The_Godfather.character.unique())"
      ],
      "execution_count": 50,
      "outputs": [
        {
          "output_type": "execute_result",
          "data": {
            "text/plain": [
              "75"
            ]
          },
          "metadata": {},
          "execution_count": 50
        }
      ]
    },
    {
      "cell_type": "code",
      "metadata": {
        "colab": {
          "base_uri": "https://localhost:8080/",
          "height": 424
        },
        "id": "TBi55xp_fetC",
        "outputId": "aab84b7f-78af-4842-9881-7319986c9e86"
      },
      "source": [
        "# Cuantos roles o papeles hubo en la pelicula \"The Godfather\"\n",
        "\n",
        "cast.loc[cast.title == \"The Godfather\"]"
      ],
      "execution_count": 51,
      "outputs": [
        {
          "output_type": "execute_result",
          "data": {
            "text/html": [
              "<div>\n",
              "<style scoped>\n",
              "    .dataframe tbody tr th:only-of-type {\n",
              "        vertical-align: middle;\n",
              "    }\n",
              "\n",
              "    .dataframe tbody tr th {\n",
              "        vertical-align: top;\n",
              "    }\n",
              "\n",
              "    .dataframe thead th {\n",
              "        text-align: right;\n",
              "    }\n",
              "</style>\n",
              "<table border=\"1\" class=\"dataframe\">\n",
              "  <thead>\n",
              "    <tr style=\"text-align: right;\">\n",
              "      <th></th>\n",
              "      <th>title</th>\n",
              "      <th>year</th>\n",
              "      <th>name</th>\n",
              "      <th>type</th>\n",
              "      <th>character</th>\n",
              "      <th>n</th>\n",
              "    </tr>\n",
              "  </thead>\n",
              "  <tbody>\n",
              "    <tr>\n",
              "      <th>51214</th>\n",
              "      <td>The Godfather</td>\n",
              "      <td>1972</td>\n",
              "      <td>Chris Anastasio</td>\n",
              "      <td>actor</td>\n",
              "      <td>Policeman</td>\n",
              "      <td>NaN</td>\n",
              "    </tr>\n",
              "    <tr>\n",
              "      <th>102809</th>\n",
              "      <td>The Godfather</td>\n",
              "      <td>1972</td>\n",
              "      <td>Norm Bacchiocchi</td>\n",
              "      <td>actor</td>\n",
              "      <td>Luca Brasi's Assassin</td>\n",
              "      <td>NaN</td>\n",
              "    </tr>\n",
              "    <tr>\n",
              "      <th>220852</th>\n",
              "      <td>The Godfather</td>\n",
              "      <td>1972</td>\n",
              "      <td>Rudy Bond</td>\n",
              "      <td>actor</td>\n",
              "      <td>Cuneo</td>\n",
              "      <td>15.0</td>\n",
              "    </tr>\n",
              "    <tr>\n",
              "      <th>248000</th>\n",
              "      <td>The Godfather</td>\n",
              "      <td>1972</td>\n",
              "      <td>Marlon Brando</td>\n",
              "      <td>actor</td>\n",
              "      <td>Don Vito Corleone</td>\n",
              "      <td>1.0</td>\n",
              "    </tr>\n",
              "    <tr>\n",
              "      <th>248738</th>\n",
              "      <td>The Godfather</td>\n",
              "      <td>1972</td>\n",
              "      <td>Max Brandt</td>\n",
              "      <td>actor</td>\n",
              "      <td>Extra in Furniture-Moving Scene</td>\n",
              "      <td>NaN</td>\n",
              "    </tr>\n",
              "    <tr>\n",
              "      <th>...</th>\n",
              "      <td>...</td>\n",
              "      <td>...</td>\n",
              "      <td>...</td>\n",
              "      <td>...</td>\n",
              "      <td>...</td>\n",
              "      <td>...</td>\n",
              "    </tr>\n",
              "    <tr>\n",
              "      <th>3137607</th>\n",
              "      <td>The Godfather</td>\n",
              "      <td>1972</td>\n",
              "      <td>Carol Morley</td>\n",
              "      <td>actress</td>\n",
              "      <td>Night Nurse</td>\n",
              "      <td>NaN</td>\n",
              "    </tr>\n",
              "    <tr>\n",
              "      <th>3360381</th>\n",
              "      <td>The Godfather</td>\n",
              "      <td>1972</td>\n",
              "      <td>Ardell Sheridan</td>\n",
              "      <td>actress</td>\n",
              "      <td>Mrs. Clemenza</td>\n",
              "      <td>29.0</td>\n",
              "    </tr>\n",
              "    <tr>\n",
              "      <th>3363276</th>\n",
              "      <td>The Godfather</td>\n",
              "      <td>1972</td>\n",
              "      <td>Talia Shire</td>\n",
              "      <td>actress</td>\n",
              "      <td>Connie</td>\n",
              "      <td>12.0</td>\n",
              "    </tr>\n",
              "    <tr>\n",
              "      <th>3390198</th>\n",
              "      <td>The Godfather</td>\n",
              "      <td>1972</td>\n",
              "      <td>Filomena Spagnuolo</td>\n",
              "      <td>actress</td>\n",
              "      <td>Extra in Wedding Scene</td>\n",
              "      <td>NaN</td>\n",
              "    </tr>\n",
              "    <tr>\n",
              "      <th>3399922</th>\n",
              "      <td>The Godfather</td>\n",
              "      <td>1972</td>\n",
              "      <td>Simonetta Stefanelli</td>\n",
              "      <td>actress</td>\n",
              "      <td>Apollonia - Sicilian Sequence</td>\n",
              "      <td>30.0</td>\n",
              "    </tr>\n",
              "  </tbody>\n",
              "</table>\n",
              "<p>76 rows × 6 columns</p>\n",
              "</div>"
            ],
            "text/plain": [
              "                 title  year  ...                        character     n\n",
              "51214    The Godfather  1972  ...                        Policeman   NaN\n",
              "102809   The Godfather  1972  ...            Luca Brasi's Assassin   NaN\n",
              "220852   The Godfather  1972  ...                            Cuneo  15.0\n",
              "248000   The Godfather  1972  ...                Don Vito Corleone   1.0\n",
              "248738   The Godfather  1972  ...  Extra in Furniture-Moving Scene   NaN\n",
              "...                ...   ...  ...                              ...   ...\n",
              "3137607  The Godfather  1972  ...                      Night Nurse   NaN\n",
              "3360381  The Godfather  1972  ...                    Mrs. Clemenza  29.0\n",
              "3363276  The Godfather  1972  ...                           Connie  12.0\n",
              "3390198  The Godfather  1972  ...           Extra in Wedding Scene   NaN\n",
              "3399922  The Godfather  1972  ...    Apollonia - Sicilian Sequence  30.0\n",
              "\n",
              "[76 rows x 6 columns]"
            ]
          },
          "metadata": {},
          "execution_count": 51
        }
      ]
    },
    {
      "cell_type": "code",
      "metadata": {
        "colab": {
          "base_uri": "https://localhost:8080/"
        },
        "id": "Booyk8WDfetC",
        "outputId": "7a59cb41-9010-4143-ccd4-53cd82da13be"
      },
      "source": [
        "# Cuantos papeles en la pelicula \"The Godfather\" si estuvieron clasificados con un valor \"n\"\n",
        "\n",
        "(The_Godfather.groupby([\"character\"])[\"n\"].value_counts()).count()\n"
      ],
      "execution_count": 52,
      "outputs": [
        {
          "output_type": "execute_result",
          "data": {
            "text/plain": [
              "34"
            ]
          },
          "metadata": {},
          "execution_count": 52
        }
      ]
    },
    {
      "cell_type": "code",
      "metadata": {
        "id": "NCE-SGtAfetC"
      },
      "source": [
        "# Mostrar el elenco completo de la pelicula \"2001: A Space Odyssey\" \n",
        "# ordenado por su clasificasión \"n\", ignorando los papeles que no se les asigno ningun valor \"n\"\n",
        "Space_O = cast[(cast[\"title\"] ==\"2001: A Space Odyssey\")]\n",
        "#cast.loc[(cast[\"title\"]== \"2001: A Space Odyssey\")].loc[cast[\"name\"]]"
      ],
      "execution_count": 53,
      "outputs": []
    },
    {
      "cell_type": "code",
      "metadata": {
        "id": "WIAvVY-TfetC"
      },
      "source": [
        "Space = Space_O[['name', \"n\"]]"
      ],
      "execution_count": 54,
      "outputs": []
    },
    {
      "cell_type": "code",
      "metadata": {
        "colab": {
          "base_uri": "https://localhost:8080/",
          "height": 1000
        },
        "id": "8tl-bhZHfetD",
        "outputId": "270357b2-d926-44f4-ba15-9239c1c83e2b"
      },
      "source": [
        "Space.sort_values(by='n', ascending =False)"
      ],
      "execution_count": 55,
      "outputs": [
        {
          "output_type": "execute_result",
          "data": {
            "text/html": [
              "<div>\n",
              "<style scoped>\n",
              "    .dataframe tbody tr th:only-of-type {\n",
              "        vertical-align: middle;\n",
              "    }\n",
              "\n",
              "    .dataframe tbody tr th {\n",
              "        vertical-align: top;\n",
              "    }\n",
              "\n",
              "    .dataframe thead th {\n",
              "        text-align: right;\n",
              "    }\n",
              "</style>\n",
              "<table border=\"1\" class=\"dataframe\">\n",
              "  <thead>\n",
              "    <tr style=\"text-align: right;\">\n",
              "      <th></th>\n",
              "      <th>name</th>\n",
              "      <th>n</th>\n",
              "    </tr>\n",
              "  </thead>\n",
              "  <tbody>\n",
              "    <tr>\n",
              "      <th>2359428</th>\n",
              "      <td>Richard (II) Woods</td>\n",
              "      <td>39.0</td>\n",
              "    </tr>\n",
              "    <tr>\n",
              "      <th>2343583</th>\n",
              "      <td>Bob Wilyman</td>\n",
              "      <td>38.0</td>\n",
              "    </tr>\n",
              "    <tr>\n",
              "      <th>2273687</th>\n",
              "      <td>Andy Wallace</td>\n",
              "      <td>37.0</td>\n",
              "    </tr>\n",
              "    <tr>\n",
              "      <th>1801551</th>\n",
              "      <td>Joe Refalo</td>\n",
              "      <td>36.0</td>\n",
              "    </tr>\n",
              "    <tr>\n",
              "      <th>1644362</th>\n",
              "      <td>Darryl Paes</td>\n",
              "      <td>35.0</td>\n",
              "    </tr>\n",
              "    <tr>\n",
              "      <th>1361809</th>\n",
              "      <td>Laurence Marchant</td>\n",
              "      <td>34.0</td>\n",
              "    </tr>\n",
              "    <tr>\n",
              "      <th>1329956</th>\n",
              "      <td>Scott MacKee</td>\n",
              "      <td>33.0</td>\n",
              "    </tr>\n",
              "    <tr>\n",
              "      <th>1074233</th>\n",
              "      <td>John (X) Jordan</td>\n",
              "      <td>32.0</td>\n",
              "    </tr>\n",
              "    <tr>\n",
              "      <th>1030910</th>\n",
              "      <td>Tony Jackson</td>\n",
              "      <td>31.0</td>\n",
              "    </tr>\n",
              "    <tr>\n",
              "      <th>954413</th>\n",
              "      <td>David Hines</td>\n",
              "      <td>30.0</td>\n",
              "    </tr>\n",
              "    <tr>\n",
              "      <th>916925</th>\n",
              "      <td>Brian Hawley</td>\n",
              "      <td>29.0</td>\n",
              "    </tr>\n",
              "    <tr>\n",
              "      <th>849029</th>\n",
              "      <td>Danny Grover</td>\n",
              "      <td>28.0</td>\n",
              "    </tr>\n",
              "    <tr>\n",
              "      <th>702077</th>\n",
              "      <td>David Fleetwood</td>\n",
              "      <td>27.0</td>\n",
              "    </tr>\n",
              "    <tr>\n",
              "      <th>601760</th>\n",
              "      <td>Terry Duggan</td>\n",
              "      <td>26.0</td>\n",
              "    </tr>\n",
              "    <tr>\n",
              "      <th>541763</th>\n",
              "      <td>P?ter Delm?r</td>\n",
              "      <td>25.0</td>\n",
              "    </tr>\n",
              "    <tr>\n",
              "      <th>515635</th>\n",
              "      <td>Jonathan Daw</td>\n",
              "      <td>24.0</td>\n",
              "    </tr>\n",
              "    <tr>\n",
              "      <th>514378</th>\n",
              "      <td>Simon Davis</td>\n",
              "      <td>23.0</td>\n",
              "    </tr>\n",
              "    <tr>\n",
              "      <th>373027</th>\n",
              "      <td>David Charkham</td>\n",
              "      <td>22.0</td>\n",
              "    </tr>\n",
              "    <tr>\n",
              "      <th>161571</th>\n",
              "      <td>Jimmy Bell</td>\n",
              "      <td>21.0</td>\n",
              "    </tr>\n",
              "    <tr>\n",
              "      <th>85047</th>\n",
              "      <td>John (III) Ashley</td>\n",
              "      <td>20.0</td>\n",
              "    </tr>\n",
              "    <tr>\n",
              "      <th>1302983</th>\n",
              "      <td>Mike Lovell</td>\n",
              "      <td>19.0</td>\n",
              "    </tr>\n",
              "    <tr>\n",
              "      <th>2690543</th>\n",
              "      <td>Heather Downham</td>\n",
              "      <td>18.0</td>\n",
              "    </tr>\n",
              "    <tr>\n",
              "      <th>2529579</th>\n",
              "      <td>Penny Brahms</td>\n",
              "      <td>17.0</td>\n",
              "    </tr>\n",
              "    <tr>\n",
              "      <th>2572025</th>\n",
              "      <td>Edwina Carroll</td>\n",
              "      <td>16.0</td>\n",
              "    </tr>\n",
              "    <tr>\n",
              "      <th>2787922</th>\n",
              "      <td>Ann Gillis</td>\n",
              "      <td>15.0</td>\n",
              "    </tr>\n",
              "    <tr>\n",
              "      <th>788106</th>\n",
              "      <td>Alan Gifford</td>\n",
              "      <td>14.0</td>\n",
              "    </tr>\n",
              "    <tr>\n",
              "      <th>153470</th>\n",
              "      <td>Glenn Beck</td>\n",
              "      <td>13.0</td>\n",
              "    </tr>\n",
              "    <tr>\n",
              "      <th>197975</th>\n",
              "      <td>Ed Bishop</td>\n",
              "      <td>12.0</td>\n",
              "    </tr>\n",
              "    <tr>\n",
              "      <th>2310523</th>\n",
              "      <td>Bill Weston</td>\n",
              "      <td>11.0</td>\n",
              "    </tr>\n",
              "    <tr>\n",
              "      <th>1469910</th>\n",
              "      <td>Frank Miller</td>\n",
              "      <td>10.0</td>\n",
              "    </tr>\n",
              "    <tr>\n",
              "      <th>1775057</th>\n",
              "      <td>Douglas Rain</td>\n",
              "      <td>9.0</td>\n",
              "    </tr>\n",
              "    <tr>\n",
              "      <th>2101643</th>\n",
              "      <td>Sean Sullivan</td>\n",
              "      <td>8.0</td>\n",
              "    </tr>\n",
              "    <tr>\n",
              "      <th>151781</th>\n",
              "      <td>Robert Beatty</td>\n",
              "      <td>7.0</td>\n",
              "    </tr>\n",
              "    <tr>\n",
              "      <th>3464754</th>\n",
              "      <td>Margaret Tyzack</td>\n",
              "      <td>6.0</td>\n",
              "    </tr>\n",
              "    <tr>\n",
              "      <th>1872093</th>\n",
              "      <td>Leonard Rossiter</td>\n",
              "      <td>5.0</td>\n",
              "    </tr>\n",
              "    <tr>\n",
              "      <th>1823947</th>\n",
              "      <td>Daniel Richter</td>\n",
              "      <td>4.0</td>\n",
              "    </tr>\n",
              "    <tr>\n",
              "      <th>2113186</th>\n",
              "      <td>William Sylvester</td>\n",
              "      <td>3.0</td>\n",
              "    </tr>\n",
              "    <tr>\n",
              "      <th>1288927</th>\n",
              "      <td>Gary Lockwood</td>\n",
              "      <td>2.0</td>\n",
              "    </tr>\n",
              "    <tr>\n",
              "      <th>602795</th>\n",
              "      <td>Keir Dullea</td>\n",
              "      <td>1.0</td>\n",
              "    </tr>\n",
              "    <tr>\n",
              "      <th>49363</th>\n",
              "      <td>Martin Amor</td>\n",
              "      <td>NaN</td>\n",
              "    </tr>\n",
              "    <tr>\n",
              "      <th>55115</th>\n",
              "      <td>S. Newton Anderson</td>\n",
              "      <td>NaN</td>\n",
              "    </tr>\n",
              "    <tr>\n",
              "      <th>413298</th>\n",
              "      <td>John Clifford</td>\n",
              "      <td>NaN</td>\n",
              "    </tr>\n",
              "    <tr>\n",
              "      <th>462887</th>\n",
              "      <td>Harold Coyne</td>\n",
              "      <td>NaN</td>\n",
              "    </tr>\n",
              "    <tr>\n",
              "      <th>1121087</th>\n",
              "      <td>Kenneth Kendall</td>\n",
              "      <td>NaN</td>\n",
              "    </tr>\n",
              "    <tr>\n",
              "      <th>1219287</th>\n",
              "      <td>Roy Lansford</td>\n",
              "      <td>NaN</td>\n",
              "    </tr>\n",
              "    <tr>\n",
              "      <th>1263965</th>\n",
              "      <td>Jordan (VI) Levy</td>\n",
              "      <td>NaN</td>\n",
              "    </tr>\n",
              "    <tr>\n",
              "      <th>1741274</th>\n",
              "      <td>Ivor Powell</td>\n",
              "      <td>NaN</td>\n",
              "    </tr>\n",
              "    <tr>\n",
              "      <th>1951234</th>\n",
              "      <td>Kevin Scott</td>\n",
              "      <td>NaN</td>\n",
              "    </tr>\n",
              "    <tr>\n",
              "      <th>2111934</th>\n",
              "      <td>John Swindells</td>\n",
              "      <td>NaN</td>\n",
              "    </tr>\n",
              "    <tr>\n",
              "      <th>2194992</th>\n",
              "      <td>Burnell Tucker</td>\n",
              "      <td>NaN</td>\n",
              "    </tr>\n",
              "    <tr>\n",
              "      <th>2970794</th>\n",
              "      <td>Vivian Kubrick</td>\n",
              "      <td>NaN</td>\n",
              "    </tr>\n",
              "    <tr>\n",
              "      <th>3028729</th>\n",
              "      <td>Maggie London</td>\n",
              "      <td>NaN</td>\n",
              "    </tr>\n",
              "    <tr>\n",
              "      <th>3068615</th>\n",
              "      <td>Irena Marr</td>\n",
              "      <td>NaN</td>\n",
              "    </tr>\n",
              "    <tr>\n",
              "      <th>3068626</th>\n",
              "      <td>Krystyna Marr</td>\n",
              "      <td>NaN</td>\n",
              "    </tr>\n",
              "    <tr>\n",
              "      <th>3080475</th>\n",
              "      <td>Chela Matthison</td>\n",
              "      <td>NaN</td>\n",
              "    </tr>\n",
              "  </tbody>\n",
              "</table>\n",
              "</div>"
            ],
            "text/plain": [
              "                       name     n\n",
              "2359428  Richard (II) Woods  39.0\n",
              "2343583         Bob Wilyman  38.0\n",
              "2273687        Andy Wallace  37.0\n",
              "1801551          Joe Refalo  36.0\n",
              "1644362         Darryl Paes  35.0\n",
              "1361809   Laurence Marchant  34.0\n",
              "1329956        Scott MacKee  33.0\n",
              "1074233     John (X) Jordan  32.0\n",
              "1030910        Tony Jackson  31.0\n",
              "954413          David Hines  30.0\n",
              "916925         Brian Hawley  29.0\n",
              "849029         Danny Grover  28.0\n",
              "702077      David Fleetwood  27.0\n",
              "601760         Terry Duggan  26.0\n",
              "541763         P?ter Delm?r  25.0\n",
              "515635         Jonathan Daw  24.0\n",
              "514378          Simon Davis  23.0\n",
              "373027       David Charkham  22.0\n",
              "161571           Jimmy Bell  21.0\n",
              "85047     John (III) Ashley  20.0\n",
              "1302983         Mike Lovell  19.0\n",
              "2690543     Heather Downham  18.0\n",
              "2529579        Penny Brahms  17.0\n",
              "2572025      Edwina Carroll  16.0\n",
              "2787922          Ann Gillis  15.0\n",
              "788106         Alan Gifford  14.0\n",
              "153470           Glenn Beck  13.0\n",
              "197975            Ed Bishop  12.0\n",
              "2310523         Bill Weston  11.0\n",
              "1469910        Frank Miller  10.0\n",
              "1775057        Douglas Rain   9.0\n",
              "2101643       Sean Sullivan   8.0\n",
              "151781        Robert Beatty   7.0\n",
              "3464754     Margaret Tyzack   6.0\n",
              "1872093    Leonard Rossiter   5.0\n",
              "1823947      Daniel Richter   4.0\n",
              "2113186   William Sylvester   3.0\n",
              "1288927       Gary Lockwood   2.0\n",
              "602795          Keir Dullea   1.0\n",
              "49363           Martin Amor   NaN\n",
              "55115    S. Newton Anderson   NaN\n",
              "413298        John Clifford   NaN\n",
              "462887         Harold Coyne   NaN\n",
              "1121087     Kenneth Kendall   NaN\n",
              "1219287        Roy Lansford   NaN\n",
              "1263965    Jordan (VI) Levy   NaN\n",
              "1741274         Ivor Powell   NaN\n",
              "1951234         Kevin Scott   NaN\n",
              "2111934      John Swindells   NaN\n",
              "2194992      Burnell Tucker   NaN\n",
              "2970794      Vivian Kubrick   NaN\n",
              "3028729       Maggie London   NaN\n",
              "3068615          Irena Marr   NaN\n",
              "3068626       Krystyna Marr   NaN\n",
              "3080475     Chela Matthison   NaN"
            ]
          },
          "metadata": {},
          "execution_count": 55
        }
      ]
    },
    {
      "cell_type": "code",
      "metadata": {
        "id": "ztLA0l84fetD"
      },
      "source": [
        "# Mostrar el elenco completo ordenado por la clasificacion \"n\"\n",
        "# de la pelicula \"Dracula\" de 1958\n",
        "\n",
        "dracula_1958 =cast.loc[(cast[\"title\"]== \"Dracula\")].loc[cast[\"year\"]== 1958]"
      ],
      "execution_count": 56,
      "outputs": []
    },
    {
      "cell_type": "code",
      "metadata": {
        "colab": {
          "base_uri": "https://localhost:8080/",
          "height": 708
        },
        "id": "1jhRoBTmfetD",
        "outputId": "52fa9045-d8b3-49fc-a072-f3d436014fc6"
      },
      "source": [
        "dracula_1958.sort_values(by='n', ascending =False)"
      ],
      "execution_count": 57,
      "outputs": [
        {
          "output_type": "execute_result",
          "data": {
            "text/html": [
              "<div>\n",
              "<style scoped>\n",
              "    .dataframe tbody tr th:only-of-type {\n",
              "        vertical-align: middle;\n",
              "    }\n",
              "\n",
              "    .dataframe tbody tr th {\n",
              "        vertical-align: top;\n",
              "    }\n",
              "\n",
              "    .dataframe thead th {\n",
              "        text-align: right;\n",
              "    }\n",
              "</style>\n",
              "<table border=\"1\" class=\"dataframe\">\n",
              "  <thead>\n",
              "    <tr style=\"text-align: right;\">\n",
              "      <th></th>\n",
              "      <th>title</th>\n",
              "      <th>year</th>\n",
              "      <th>name</th>\n",
              "      <th>type</th>\n",
              "      <th>character</th>\n",
              "      <th>n</th>\n",
              "    </tr>\n",
              "  </thead>\n",
              "  <tbody>\n",
              "    <tr>\n",
              "      <th>423307</th>\n",
              "      <td>Dracula</td>\n",
              "      <td>1958</td>\n",
              "      <td>Paul Cole</td>\n",
              "      <td>actor</td>\n",
              "      <td>Lad</td>\n",
              "      <td>17.0</td>\n",
              "    </tr>\n",
              "    <tr>\n",
              "      <th>148496</th>\n",
              "      <td>Dracula</td>\n",
              "      <td>1958</td>\n",
              "      <td>Geoffrey Bayldon</td>\n",
              "      <td>actor</td>\n",
              "      <td>Porter</td>\n",
              "      <td>16.0</td>\n",
              "    </tr>\n",
              "    <tr>\n",
              "      <th>1347640</th>\n",
              "      <td>Dracula</td>\n",
              "      <td>1958</td>\n",
              "      <td>Miles Malleson</td>\n",
              "      <td>actor</td>\n",
              "      <td>Undertaker</td>\n",
              "      <td>15.0</td>\n",
              "    </tr>\n",
              "    <tr>\n",
              "      <th>171732</th>\n",
              "      <td>Dracula</td>\n",
              "      <td>1958</td>\n",
              "      <td>George Benson</td>\n",
              "      <td>actor</td>\n",
              "      <td>Official</td>\n",
              "      <td>14.0</td>\n",
              "    </tr>\n",
              "    <tr>\n",
              "      <th>2357769</th>\n",
              "      <td>Dracula</td>\n",
              "      <td>1958</td>\n",
              "      <td>George Woodbridge</td>\n",
              "      <td>actor</td>\n",
              "      <td>Landlord</td>\n",
              "      <td>13.0</td>\n",
              "    </tr>\n",
              "    <tr>\n",
              "      <th>1453367</th>\n",
              "      <td>Dracula</td>\n",
              "      <td>1958</td>\n",
              "      <td>George Merritt</td>\n",
              "      <td>actor</td>\n",
              "      <td>Policeman</td>\n",
              "      <td>12.0</td>\n",
              "    </tr>\n",
              "    <tr>\n",
              "      <th>1285506</th>\n",
              "      <td>Dracula</td>\n",
              "      <td>1958</td>\n",
              "      <td>Charles Lloyd Pack</td>\n",
              "      <td>actor</td>\n",
              "      <td>Doctor Seward</td>\n",
              "      <td>11.0</td>\n",
              "    </tr>\n",
              "    <tr>\n",
              "      <th>2444220</th>\n",
              "      <td>Dracula</td>\n",
              "      <td>1958</td>\n",
              "      <td>Barbara Archer</td>\n",
              "      <td>actress</td>\n",
              "      <td>Inga</td>\n",
              "      <td>10.0</td>\n",
              "    </tr>\n",
              "    <tr>\n",
              "      <th>2731182</th>\n",
              "      <td>Dracula</td>\n",
              "      <td>1958</td>\n",
              "      <td>Janina Faye</td>\n",
              "      <td>actress</td>\n",
              "      <td>Tania</td>\n",
              "      <td>9.0</td>\n",
              "    </tr>\n",
              "    <tr>\n",
              "      <th>2777216</th>\n",
              "      <td>Dracula</td>\n",
              "      <td>1958</td>\n",
              "      <td>Valerie Gaunt</td>\n",
              "      <td>actress</td>\n",
              "      <td>Vampire Woman</td>\n",
              "      <td>8.0</td>\n",
              "    </tr>\n",
              "    <tr>\n",
              "      <th>2220986</th>\n",
              "      <td>Dracula</td>\n",
              "      <td>1958</td>\n",
              "      <td>John Van Eyssen</td>\n",
              "      <td>actor</td>\n",
              "      <td>Jonathan</td>\n",
              "      <td>7.0</td>\n",
              "    </tr>\n",
              "    <tr>\n",
              "      <th>2677557</th>\n",
              "      <td>Dracula</td>\n",
              "      <td>1958</td>\n",
              "      <td>Olga Dickie</td>\n",
              "      <td>actress</td>\n",
              "      <td>Gerda</td>\n",
              "      <td>6.0</td>\n",
              "    </tr>\n",
              "    <tr>\n",
              "      <th>3069196</th>\n",
              "      <td>Dracula</td>\n",
              "      <td>1958</td>\n",
              "      <td>Carol Marsh</td>\n",
              "      <td>actress</td>\n",
              "      <td>Lucy</td>\n",
              "      <td>5.0</td>\n",
              "    </tr>\n",
              "    <tr>\n",
              "      <th>3410427</th>\n",
              "      <td>Dracula</td>\n",
              "      <td>1958</td>\n",
              "      <td>Melissa Stribling</td>\n",
              "      <td>actress</td>\n",
              "      <td>Mina</td>\n",
              "      <td>4.0</td>\n",
              "    </tr>\n",
              "    <tr>\n",
              "      <th>822398</th>\n",
              "      <td>Dracula</td>\n",
              "      <td>1958</td>\n",
              "      <td>Michael Gough</td>\n",
              "      <td>actor</td>\n",
              "      <td>Arthur</td>\n",
              "      <td>3.0</td>\n",
              "    </tr>\n",
              "    <tr>\n",
              "      <th>1242308</th>\n",
              "      <td>Dracula</td>\n",
              "      <td>1958</td>\n",
              "      <td>Christopher Lee</td>\n",
              "      <td>actor</td>\n",
              "      <td>Count Dracula</td>\n",
              "      <td>2.0</td>\n",
              "    </tr>\n",
              "    <tr>\n",
              "      <th>1242307</th>\n",
              "      <td>Dracula</td>\n",
              "      <td>1958</td>\n",
              "      <td>Christopher Lee</td>\n",
              "      <td>actor</td>\n",
              "      <td>Dracula</td>\n",
              "      <td>2.0</td>\n",
              "    </tr>\n",
              "    <tr>\n",
              "      <th>485197</th>\n",
              "      <td>Dracula</td>\n",
              "      <td>1958</td>\n",
              "      <td>Peter Cushing</td>\n",
              "      <td>actor</td>\n",
              "      <td>Doctor Van Helsing</td>\n",
              "      <td>1.0</td>\n",
              "    </tr>\n",
              "    <tr>\n",
              "      <th>1475047</th>\n",
              "      <td>Dracula</td>\n",
              "      <td>1958</td>\n",
              "      <td>Guy Mills</td>\n",
              "      <td>actor</td>\n",
              "      <td>Coach Driver</td>\n",
              "      <td>NaN</td>\n",
              "    </tr>\n",
              "    <tr>\n",
              "      <th>1513434</th>\n",
              "      <td>Dracula</td>\n",
              "      <td>1958</td>\n",
              "      <td>Richard (VIII) Morgan</td>\n",
              "      <td>actor</td>\n",
              "      <td>Coach Driver's Companion</td>\n",
              "      <td>NaN</td>\n",
              "    </tr>\n",
              "    <tr>\n",
              "      <th>1524497</th>\n",
              "      <td>Dracula</td>\n",
              "      <td>1958</td>\n",
              "      <td>John (II) Mossman</td>\n",
              "      <td>actor</td>\n",
              "      <td>Hearse Driver</td>\n",
              "      <td>NaN</td>\n",
              "    </tr>\n",
              "  </tbody>\n",
              "</table>\n",
              "</div>"
            ],
            "text/plain": [
              "           title  year  ...                 character     n\n",
              "423307   Dracula  1958  ...                       Lad  17.0\n",
              "148496   Dracula  1958  ...                    Porter  16.0\n",
              "1347640  Dracula  1958  ...                Undertaker  15.0\n",
              "171732   Dracula  1958  ...                  Official  14.0\n",
              "2357769  Dracula  1958  ...                  Landlord  13.0\n",
              "1453367  Dracula  1958  ...                 Policeman  12.0\n",
              "1285506  Dracula  1958  ...             Doctor Seward  11.0\n",
              "2444220  Dracula  1958  ...                      Inga  10.0\n",
              "2731182  Dracula  1958  ...                     Tania   9.0\n",
              "2777216  Dracula  1958  ...             Vampire Woman   8.0\n",
              "2220986  Dracula  1958  ...                  Jonathan   7.0\n",
              "2677557  Dracula  1958  ...                     Gerda   6.0\n",
              "3069196  Dracula  1958  ...                      Lucy   5.0\n",
              "3410427  Dracula  1958  ...                      Mina   4.0\n",
              "822398   Dracula  1958  ...                    Arthur   3.0\n",
              "1242308  Dracula  1958  ...             Count Dracula   2.0\n",
              "1242307  Dracula  1958  ...                   Dracula   2.0\n",
              "485197   Dracula  1958  ...        Doctor Van Helsing   1.0\n",
              "1475047  Dracula  1958  ...              Coach Driver   NaN\n",
              "1513434  Dracula  1958  ...  Coach Driver's Companion   NaN\n",
              "1524497  Dracula  1958  ...             Hearse Driver   NaN\n",
              "\n",
              "[21 rows x 6 columns]"
            ]
          },
          "metadata": {},
          "execution_count": 57
        }
      ]
    },
    {
      "cell_type": "code",
      "metadata": {
        "colab": {
          "base_uri": "https://localhost:8080/"
        },
        "id": "EnCrjexVfetD",
        "outputId": "840dc79a-548b-4ddb-8fc1-cb1b8e56f915"
      },
      "source": [
        "# Cuantos papeles de \"Bruce Wayne\" han sido hechos en la historia  de las peliculas (papeles hace referencia a la coulumna character)\n",
        "cast.loc[(cast[\"character\"]== 'Bruce Wayne')].count()"
      ],
      "execution_count": 58,
      "outputs": [
        {
          "output_type": "execute_result",
          "data": {
            "text/plain": [
              "title        38\n",
              "year         38\n",
              "name         38\n",
              "type         38\n",
              "character    38\n",
              "n            26\n",
              "dtype: int64"
            ]
          },
          "metadata": {},
          "execution_count": 58
        }
      ]
    }
  ]
}