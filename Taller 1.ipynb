{
 "cells": [
  {
   "cell_type": "markdown",
   "metadata": {},
   "source": [
    "# Listado de Ejercicios a realizar"
   ]
  },
  {
   "cell_type": "markdown",
   "metadata": {},
   "source": [
    "## 1. Sin usar el computador, evalúe las siguientes expresiones, y para cada una de ellas indique el resultado y su tipo (si la expresión es válida) o qué error ocurre:\n",
    "\n",
    "### Ejemplo\n",
    "- 2 + 3      # Respuesta: tipo int, valor 5\n",
    "- 4 / 0      # Respuesta: error de división por cero\n",
    "\n",
    "### Ejercicio\n",
    "\n",
    "- 5 + 3 * 4\n",
    "- '5' + '3' * 2\n",
    "- 2 ** 11 == 1000 or 2 ** 9 == 100\n",
    "- int(\"cincuenta\")\n",
    "- 16/16 + 384/24\n",
    "- 600 + 18%\n",
    "- 0 < (4096 % 10) < 6\n",
    "- 'Max' + 'Min'\n",
    "- ABC() * DEF()\n",
    "- float(-int('7') + int('90'))\n",
    "- abs(len('seis') - len('tres'))\n",
    "- bool(1210) or bool(-3465) \n",
    "- float(str(int('8' * 3) / 3)[3])"
   ]
  },
  {
   "cell_type": "code",
   "execution_count": null,
   "metadata": {},
   "outputs": [],
   "source": [
    "# Respuesta:\n",
    "- 5 + 3 * 4 ## 17 tipo int\n",
    "- '5' + '3' * 2 ## 533 tipo str\n",
    "- 2 ** 11 == 1000 or 2 ** 9 == 100 ## False\n",
    "- int(\"cincuenta\")## es una cadena\n",
    "- 16/16 + 384/24 ## 17 tipo int\n",
    "- 600 + 18% ## Error porque el % se utiliza para obtener el resto de la operacion de que se divide\n",
    "- 0 < (4096 % 10) < 6 ## False tipo bool\n",
    "- 'Max' + 'Min'## 'MaxMin'tipo str\n",
    "- ABC() * DEF()## Error\n",
    "- float(-int('7') + int('90')) ## 83 tipo int\n",
    "- abs(len('seis') - len('tres'))## 0 tipo dic\n",
    "- bool(1210) or bool(-3465) ## True tipo bool\n",
    "- float(str(int('8' * 3) / 3)[3])## Error\n",
    "\n"
   ]
  },
  {
   "cell_type": "markdown",
   "metadata": {},
   "source": [
    "# 2. Imprima su nombre y fecha\n",
    "- Imprime: Jorge Alvarez - 20-04-2020"
   ]
  },
  {
   "cell_type": "code",
   "execution_count": 24,
   "metadata": {},
   "outputs": [
    {
     "name": "stdout",
     "output_type": "stream",
     "text": [
      "Angelica - 30-10-2001\n"
     ]
    }
   ],
   "source": [
    "# Respuesta:\n",
    "Nombre= 'Angelica - '\n",
    "fecha= '30-10-2001'\n",
    "print(Nombre+fecha)\n",
    "\n"
   ]
  },
  {
   "cell_type": "code",
   "execution_count": 33,
   "metadata": {},
   "outputs": [],
   "source": [
    "# 3. Solicite un nombre y que el programa salude\n",
    "### Ejemplo:\n",
    "- ingreso: 'Andres'\n",
    "- imprime: 'Hola Andres'"
   ]
  },
  {
   "cell_type": "code",
   "execution_count": 94,
   "metadata": {},
   "outputs": [
    {
     "name": "stdout",
     "output_type": "stream",
     "text": [
      "ingrese su nombre:Stiven\n",
      "hola Stiven\n"
     ]
    }
   ],
   "source": [
    "# Respuesta:\n",
    "nombre= str(input('ingrese su nombre:'))\n",
    "print('hola %s'%nombre)\n",
    "\n"
   ]
  },
  {
   "cell_type": "markdown",
   "metadata": {},
   "source": [
    "# 4. Solicite el radio (un numero) de un círculo e imprima como salida su diámetro, perímetro y su área\n",
    "### Ejemplo\n",
    "- ingreso: 3 \n",
    "- imprime - Diametro: 6\n",
    "- imprime - Perimetro: 18.84\n",
    "- imprime - Area: 28.27"
   ]
  },
  {
   "cell_type": "code",
   "execution_count": 95,
   "metadata": {
    "scrolled": true
   },
   "outputs": [
    {
     "name": "stdout",
     "output_type": "stream",
     "text": [
      "ingrese el numero del radio: 8\n",
      "el diametro es: 16\n",
      "el perimetro es: 50.24\n",
      "el area es: 200.96\n"
     ]
    }
   ],
   "source": [
    "# Respuesta:\n",
    "r= int(input('ingrese el numero del radio: '))\n",
    "Diam= r*2\n",
    "print('el diametro es:', Diam)\n",
    "pi= 3.14\n",
    "Peri= 2*pi*r \n",
    "print('el perimetro es:', Peri)\n",
    "Area= r**2*pi\n",
    "print('el area es:', Area)\n"
   ]
  },
  {
   "cell_type": "markdown",
   "metadata": {},
   "source": [
    "# 5. Solicite 6 notas y calcule el promedio de ellas\n",
    "### Ejemplo\n",
    "- ingreso: 1 2 3 4 5 6\n",
    "- imprime: 3.5"
   ]
  },
  {
   "cell_type": "code",
   "execution_count": 98,
   "metadata": {
    "scrolled": true
   },
   "outputs": [
    {
     "name": "stdout",
     "output_type": "stream",
     "text": [
      "ingrese su nota 4.0\n",
      "ingrese su nota 2.0\n",
      "ingrese su nota 4.0\n",
      "ingrese su nota 1.2\n",
      "ingrese su nota 1.3\n",
      "ingrese su nota 3.8\n",
      "su promedio es:  2.716666666666667\n"
     ]
    }
   ],
   "source": [
    "# Respuesta:\n",
    "val= []\n",
    "for i in range (6):\n",
    "    nota= float(input('ingrese su nota '))\n",
    "    val.append(nota)\n",
    "promedio= sum(val)/len(val)\n",
    "print('su promedio es: ', promedio)\n"
   ]
  },
  {
   "cell_type": "markdown",
   "metadata": {},
   "source": [
    "# 6. Solicite un valor e imprima que tipo de dato es\n",
    "### Ejemplo\n",
    "- ingreso: 'A'\n",
    "- imprime: str\n",
    "- ingreso: 1\n",
    "- imprime: int"
   ]
  },
  {
   "cell_type": "code",
   "execution_count": 47,
   "metadata": {
    "scrolled": false
   },
   "outputs": [
    {
     "name": "stdout",
     "output_type": "stream",
     "text": [
      "9\n"
     ]
    },
    {
     "data": {
      "text/plain": [
       "str"
      ]
     },
     "execution_count": 47,
     "metadata": {},
     "output_type": "execute_result"
    }
   ],
   "source": [
    "# Respuesta:\n",
    "val= input()\n",
    "type(val)\n"
   ]
  },
  {
   "cell_type": "markdown",
   "metadata": {},
   "source": [
    "# 7. Escriba en código la siguiente ecuación\n",
    "$$ \\left(\\frac{5+3}{3-2}\\right)^2$$"
   ]
  },
  {
   "cell_type": "code",
   "execution_count": 46,
   "metadata": {
    "scrolled": true
   },
   "outputs": [
    {
     "data": {
      "text/plain": [
       "64.0"
      ]
     },
     "execution_count": 46,
     "metadata": {},
     "output_type": "execute_result"
    }
   ],
   "source": [
    "# Respuestax\n",
    "x= ((5+3) /(3-2))**2\n",
    "x\n"
   ]
  },
  {
   "cell_type": "markdown",
   "metadata": {},
   "source": [
    "# 8. Solicite número de horas trabajadas y coste por horas e imprima el valor\n",
    "### Ejemplo:\n",
    "- Ingreso: 4 (horas)\n",
    "- ingreso: 80.000 (precio x hora)\n",
    "- imprime: 320.000"
   ]
  },
  {
   "cell_type": "code",
   "execution_count": 96,
   "metadata": {},
   "outputs": [
    {
     "name": "stdout",
     "output_type": "stream",
     "text": [
      "ingrese el numero de horas80\n",
      "ingrese el coste por horas50000\n",
      "su salario es: 4000000.0\n"
     ]
    }
   ],
   "source": [
    "# Respuesta\n",
    "horas= int(input('ingrese el numero de horas'))\n",
    "precio= float(input('ingrese el coste por horas'))  \n",
    "valor= precio*horas\n",
    "print('su salario es:', valor)\n"
   ]
  },
  {
   "cell_type": "markdown",
   "metadata": {},
   "source": [
    "# 9. Solicite la temperatura en grados Celsius e imprima en grados Kelvin y Fahrenheit \n",
    "### Ejemplo:\n",
    "- ingreso: 38 (°C)\n",
    "- imprime: 311.15 °K\n",
    "- imprime: 100.4 °F"
   ]
  },
  {
   "cell_type": "code",
   "execution_count": 8,
   "metadata": {
    "scrolled": true
   },
   "outputs": [
    {
     "name": "stdout",
     "output_type": "stream",
     "text": [
      "ingrese el numero a convertir: 34\n",
      "los grados en Fahrenheit son:  93.2\n"
     ]
    }
   ],
   "source": [
    "# Respuesta\n",
    "c= float(input('ingrese el numero a convertir: '))\n",
    "F= 9 / 5 * c + 32 \n",
    "print('los grados en Fahrenheit son: ', F)\n"
   ]
  },
  {
   "cell_type": "markdown",
   "metadata": {},
   "source": [
    "# 10. Solicite 2 numeros e imprima si el segundo es mayor  \n",
    "### Ejemplo:\n",
    "- ingreso: 2\n",
    "- ingreso: 3\n",
    "- impmrime: True"
   ]
  },
  {
   "cell_type": "code",
   "execution_count": 39,
   "metadata": {
    "scrolled": true
   },
   "outputs": [
    {
     "name": "stdout",
     "output_type": "stream",
     "text": [
      "ingrese el numero: 6\n",
      "ingrese el numero: 3\n",
      "False\n"
     ]
    }
   ],
   "source": [
    "# Respuesta\n",
    "x = float(input(\"ingrese el numero: \"))\n",
    "y = float(input(\"ingrese el numero: \"))\n",
    "if y>x:\n",
    "    print('El segundo número es mayor.')\n",
    "elif x>y:\n",
    "    print('False')"
   ]
  },
  {
   "cell_type": "markdown",
   "metadata": {},
   "source": [
    "# 11. Solicite 2 numeros e imprima si el segundo es menor  \n",
    "### Ejemplo:\n",
    "- ingreso: 2\n",
    "- ingreso: 3\n",
    "- impmrime: False"
   ]
  },
  {
   "cell_type": "code",
   "execution_count": 42,
   "metadata": {},
   "outputs": [
    {
     "name": "stdout",
     "output_type": "stream",
     "text": [
      "ingrese el numero: 7\n",
      "ingrese el numero: 3\n",
      "El segundo número es menor.\n"
     ]
    }
   ],
   "source": [
    "# Respuesta\n",
    "x = float(input(\"ingrese el numero: \"))\n",
    "y = float(input(\"ingrese el numero: \"))\n",
    "if y<x:\n",
    "    print('El segundo número es menor.')\n",
    "elif y>x:\n",
    "    print('True')\n",
    "    \n",
    "        "
   ]
  },
  {
   "cell_type": "markdown",
   "metadata": {},
   "source": [
    "# 12. Solicite una distancia (metros) y la velocidad (metros/segundos) e imprima el tiempo que se demora el recorrido\n",
    "### Ejemplo:\n",
    "- ingreso: 150 (metros)\n",
    "- ingreso: 15 (metros/segundo)\n",
    "- Imprime: 10 segundos"
   ]
  },
  {
   "cell_type": "code",
   "execution_count": 14,
   "metadata": {
    "scrolled": true
   },
   "outputs": [
    {
     "name": "stdout",
     "output_type": "stream",
     "text": [
      "ingrese la distancia: 6.90\n",
      "ingrese la velocidad: 4.89\n",
      " el tiempo que se demora el recorrido es de:  1.4110429447852761\n"
     ]
    }
   ],
   "source": [
    "# Respuesta\n",
    "d= float(input('ingrese la distancia: '))\n",
    "v= float(input('ingrese la velocidad: '))\n",
    "t= d / v\n",
    "print('el tiempo que se demora el recorrido es de: ', t)\n",
    "\n"
   ]
  },
  {
   "cell_type": "markdown",
   "metadata": {},
   "source": [
    "# 13. Solicite al usuario tres valores y escriba en código la siguiente ecuación\n",
    "$$ \\left(\\frac{a+b}{c}\\right) ^2 + \\left(\\frac{a-b}{c}\\right) ^ 2 $$"
   ]
  },
  {
   "cell_type": "code",
   "execution_count": 48,
   "metadata": {},
   "outputs": [
    {
     "name": "stdout",
     "output_type": "stream",
     "text": [
      "escriba el numero: 4\n",
      "escriba el numero: 3\n",
      "escriba el numero: 5\n",
      "32.72\n"
     ]
    }
   ],
   "source": [
    "# Respuesta\n",
    "a= float(input('escriba el numero: '))\n",
    "b= float(input('escriba el numero: '))\n",
    "c= float(input('escriba el numero: '))\n",
    "\n",
    "d= ((a+b / c)**2 + (a-b / c)**2)\n",
    "print(d)\n"
   ]
  },
  {
   "cell_type": "markdown",
   "metadata": {},
   "source": [
    "# 14. Investigue como se saca la raíz cuadrada de un número en Python y escriba la solución en el cuadro de abajo"
   ]
  },
  {
   "cell_type": "code",
   "execution_count": null,
   "metadata": {},
   "outputs": [],
   "source": [
    "# se utiliza la funcion import math o pow\n",
    "import math\n",
    "math.sqrt()\n",
    "pow()\n"
   ]
  },
  {
   "cell_type": "markdown",
   "metadata": {},
   "source": [
    "# 15.  Con lo anterior solicite 2 numeros (Cateto a y Cateto b) e imprima la hipotenusa.\n",
    "### Ejemplo:\n",
    "- ingreso: 3 (Cateto a)\n",
    "- ingreso: 4 (Cateto b)\n",
    "- imprime: Hipotenusa = 5"
   ]
  },
  {
   "cell_type": "code",
   "execution_count": 28,
   "metadata": {
    "scrolled": true
   },
   "outputs": [
    {
     "name": "stdout",
     "output_type": "stream",
     "text": [
      "ingrese el numero del cateto a: 9\n",
      "ingrese el numero del cateto b: 7\n",
      "la hipotenusa es:  11.40175425099138\n"
     ]
    }
   ],
   "source": [
    "import math\n",
    "cat1= float(input('ingrese el numero del cateto a: '))\n",
    "cat2= float(input('ingrese el numero del cateto b: '))\n",
    "hipo= math.sqrt((cat1**2)+(cat2**2))\n",
    "\n",
    "print('la hipotenusa es: ', hipo)"
   ]
  }
 ],
 "metadata": {
  "kernelspec": {
   "display_name": "Python 3",
   "language": "python",
   "name": "python3"
  },
  "language_info": {
   "codemirror_mode": {
    "name": "ipython",
    "version": 3
   },
   "file_extension": ".py",
   "mimetype": "text/x-python",
   "name": "python",
   "nbconvert_exporter": "python",
   "pygments_lexer": "ipython3",
   "version": "3.8.8"
  }
 },
 "nbformat": 4,
 "nbformat_minor": 2
}
