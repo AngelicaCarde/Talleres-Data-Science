{
  "nbformat": 4,
  "nbformat_minor": 0,
  "metadata": {
    "celltoolbar": "Raw Cell Format",
    "kernelspec": {
      "display_name": "Python 3",
      "language": "python",
      "name": "python3"
    },
    "language_info": {
      "codemirror_mode": {
        "name": "ipython",
        "version": 3
      },
      "file_extension": ".py",
      "mimetype": "text/x-python",
      "name": "python",
      "nbconvert_exporter": "python",
      "pygments_lexer": "ipython3",
      "version": "3.7.4"
    },
    "colab": {
      "name": "Taller 2 ipynb",
      "provenance": [],
      "collapsed_sections": [
        "16OQ6uWZT6cb",
        "WxiZ30kwT6cd",
        "qlIp_5VuT6ce",
        "PTiQ2jRaT6cf",
        "gRv39cupT6ch"
      ]
    }
  },
  "cells": [
    {
      "cell_type": "markdown",
      "metadata": {
        "id": "sXkDjZZYT6b2"
      },
      "source": [
        "# ¿Cómo podemos controlar el creciente número de accidentes en Nueva York?"
      ]
    },
    {
      "cell_type": "code",
      "metadata": {
        "id": "YYYSleV4T6b6"
      },
      "source": [
        "import json\n",
        "#import requests\n",
        "from bs4 import BeautifulSoup\n",
        "import pandas as pd\n",
        "import matplotlib.pyplot as plt\n",
        "import seaborn as sns\n",
        "import numpy"
      ],
      "execution_count": null,
      "outputs": []
    },
    {
      "cell_type": "markdown",
      "metadata": {
        "id": "QoaPIQiPT6b9"
      },
      "source": [
        "## Introduccion"
      ]
    },
    {
      "cell_type": "markdown",
      "metadata": {
        "id": "fauR9xx1T6b9"
      },
      "source": [
        "**Contexto empresarial.** La ciudad de Nueva York ha experimentado un aumento en el número de accidentes en las carreteras de la ciudad. Quieren saber si el número de accidentes ha aumentado en las últimas semanas. Para todos los accidentes reportados, han recopilado detalles para cada accidente y han estado manteniendo registros durante el último año y medio (desde enero de 2018 hasta agosto de 2019).\n",
        "\n",
        "La ciudad te ha contratado para que construyas visualizaciones que les ayuden a identificar patrones en accidentes, lo que les ayudaría a tomar acciones preventivas para reducir la cantidad de accidentes en el futuro. Tienen ciertos parámetros como municipio, hora del día, motivo del accidente, etc. De los que se preocupan y de los que les gustaría obtener información específica."
      ]
    },
    {
      "cell_type": "markdown",
      "metadata": {
        "id": "iL0-bADWT6b_"
      },
      "source": [
        "**Problema comercial.** Su tarea es formatear los datos proporcionados y proporcionar visualizaciones que respondan las preguntas específicas que tiene el cliente, que se mencionan a continuación."
      ]
    },
    {
      "cell_type": "markdown",
      "metadata": {
        "id": "5959nU39T6b_"
      },
      "source": [
        "**Contexto analítico.** Se le proporciona un archivo CSV (almacenado en la carpeta ```datos``` ya creada) que contiene detalles sobre cada accidente, como fecha, hora, ubicación del accidente, motivo del accidente, tipos de vehículos involucrados, recuento de lesiones y muertes, etc. El delimitador en el archivo CSV dado es `;` en lugar del predeterminado `,`. Realizará las siguientes tareas con los datos:\n",
        "\n",
        "1. Extraiga datos adicionales del municipio almacenados en un archivo JSON\n",
        "2. Leer, transformar y preparar datos para su visualización\n",
        "3. Realizar análisis y construir visualizaciones de los datos para identificar patrones en el conjunto de datos.\n",
        "        \n",
        "El cliente tiene un conjunto específico de preguntas a las que le gustaría obtener respuestas. Deberá proporcionar visualizaciones para acompañar estos:\n",
        "\n",
        "1. ¿Cómo ha fluctuado el número de accidentes durante el último año y medio? ¿Han aumentado con el tiempo?\n",
        "2. Para un día en particular, ¿durante qué horas es más probable que ocurran accidentes?\n",
        "3. ¿Hay más accidentes entre semana que durante los fines de semana?\n",
        "4. ¿Cuál es la proporción de recuento de accidentes por área por municipio? ¿Qué distritos tienen un número desproporcionadamente grande de accidentes para su tamaño?\n",
        "5. Para cada municipio, ¿durante qué horas es más probable que ocurran accidentes?\n",
        "6. ¿Cuáles son las 5 principales causas de accidentes en la ciudad?\n",
        "7. ¿Qué tipos de vehículos están más involucrados en accidentes por municipio?\n",
        "8. ¿Qué tipos de vehículos están más involucrados en las muertes?"
      ]
    },
    {
      "cell_type": "markdown",
      "metadata": {
        "id": "Kq90lkEVT6cB"
      },
      "source": [
        "## Obteniendo los datos relevantes"
      ]
    },
    {
      "cell_type": "markdown",
      "metadata": {
        "id": "xUcefBYxT6cD"
      },
      "source": [
        "El cliente ha solicitado un análisis de la relación accidentes-área de los distritos. Los datos del municipio se almacenan en un archivo JSON en la carpeta ```datos```."
      ]
    },
    {
      "cell_type": "markdown",
      "metadata": {
        "id": "9fm6bIWAT6cE"
      },
      "source": [
        "### Question (5 min):\n",
        "\n",
        "Utilice la función ```json.load()``` para cargar el archivo ```borough_data.json``` como diccionario."
      ]
    },
    {
      "cell_type": "markdown",
      "metadata": {
        "id": "qHoUWV9mT6cG"
      },
      "source": [
        "**Answer.** "
      ]
    },
    {
      "cell_type": "code",
      "metadata": {
        "colab": {
          "base_uri": "https://localhost:8080/"
        },
        "id": "WiYlx_c5T6cH",
        "outputId": "19c71bf3-783b-47b9-93c8-c9600dd74205"
      },
      "source": [
        "with open('borough_data.json') as f:\n",
        "    borough_data=json.load(f)\n",
        "    \n",
        "borough_data"
      ],
      "execution_count": null,
      "outputs": [
        {
          "output_type": "execute_result",
          "data": {
            "text/plain": [
              "{'brooklyn': {'area': 70.82, 'name': 'brooklyn', 'population': 2648771.0},\n",
              " 'manhattan': {'area': 22.83, 'name': 'manhattan', 'population': 1664727.0},\n",
              " 'queens': {'area': 108.53, 'name': 'queens', 'population': 2358582.0},\n",
              " 'staten island': {'area': 58.37,\n",
              "  'name': 'staten island',\n",
              "  'population': 479458.0},\n",
              " 'the bronx': {'area': 42.1, 'name': 'the bronx', 'population': 1471160.0}}"
            ]
          },
          "metadata": {},
          "execution_count": 15
        }
      ]
    },
    {
      "cell_type": "markdown",
      "metadata": {
        "id": "_0pFRja8T6cK"
      },
      "source": [
        "### Question (5 min):\n",
        "De manera similar, use la función pandas ```read_csv()``` para cargar el archivo ```accidentes.csv``` como un DataFrame. Nombra este DataFrame ```df```.\n"
      ]
    },
    {
      "cell_type": "markdown",
      "metadata": {
        "id": "OqXAdcOqT6cL"
      },
      "source": [
        "**Answer.** "
      ]
    },
    {
      "cell_type": "code",
      "metadata": {
        "colab": {
          "base_uri": "https://localhost:8080/"
        },
        "id": "Y6jNt_M8T6cL",
        "outputId": "f1e65176-7d76-41f8-9fb8-9ecee7130215"
      },
      "source": [
        "with open('accidents.csv') as f:\n",
        "    df=pd.read_csv(f, delimiter=';')\n",
        "    print(df)"
      ],
      "execution_count": null,
      "outputs": [
        {
          "output_type": "stream",
          "name": "stdout",
          "text": [
            "              DATE   TIME  ... VEHICLE TYPE CODE 4  VEHICLE TYPE CODE 5\n",
            "0       09/26/2018  12:12  ...                 NaN                  NaN\n",
            "1       09/25/2018  16:30  ...                 NaN                  NaN\n",
            "2       08/22/2019  19:30  ...                 NaN                  NaN\n",
            "3       09/23/2018  13:10  ...                 NaN                  NaN\n",
            "4       08/20/2019  22:40  ...                 NaN                  NaN\n",
            "...            ...    ...  ...                 ...                  ...\n",
            "238517  01/20/2018  15:00  ...                 NaN                  NaN\n",
            "238518  01/04/2018  14:00  ...                 NaN                  NaN\n",
            "238519  01/20/2018  13:05  ...                 NaN                  NaN\n",
            "238520  01/29/2018  17:45  ...                 NaN                  NaN\n",
            "238521  01/23/2018  16:38  ...                 NaN                  NaN\n",
            "\n",
            "[238522 rows x 24 columns]\n"
          ]
        }
      ]
    },
    {
      "cell_type": "code",
      "metadata": {
        "colab": {
          "base_uri": "https://localhost:8080/",
          "height": 1000
        },
        "id": "4ZJI_31nWWSq",
        "outputId": "2cccfc04-a815-4532-f61d-32e33ad8d9ef"
      },
      "source": [
        "df.tail(20)"
      ],
      "execution_count": null,
      "outputs": [
        {
          "output_type": "execute_result",
          "data": {
            "text/html": [
              "<div>\n",
              "<style scoped>\n",
              "    .dataframe tbody tr th:only-of-type {\n",
              "        vertical-align: middle;\n",
              "    }\n",
              "\n",
              "    .dataframe tbody tr th {\n",
              "        vertical-align: top;\n",
              "    }\n",
              "\n",
              "    .dataframe thead th {\n",
              "        text-align: right;\n",
              "    }\n",
              "</style>\n",
              "<table border=\"1\" class=\"dataframe\">\n",
              "  <thead>\n",
              "    <tr style=\"text-align: right;\">\n",
              "      <th></th>\n",
              "      <th>DATE</th>\n",
              "      <th>TIME</th>\n",
              "      <th>BOROUGH</th>\n",
              "      <th>ZIP CODE</th>\n",
              "      <th>LATITUDE</th>\n",
              "      <th>LONGITUDE</th>\n",
              "      <th>ON STREET NAME</th>\n",
              "      <th>NUMBER OF PEDESTRIANS INJURED</th>\n",
              "      <th>NUMBER OF PEDESTRIANS KILLED</th>\n",
              "      <th>NUMBER OF CYCLIST INJURED</th>\n",
              "      <th>NUMBER OF CYCLIST KILLED</th>\n",
              "      <th>NUMBER OF MOTORIST INJURED</th>\n",
              "      <th>NUMBER OF MOTORIST KILLED</th>\n",
              "      <th>CONTRIBUTING FACTOR VEHICLE 1</th>\n",
              "      <th>CONTRIBUTING FACTOR VEHICLE 2</th>\n",
              "      <th>CONTRIBUTING FACTOR VEHICLE 3</th>\n",
              "      <th>CONTRIBUTING FACTOR VEHICLE 4</th>\n",
              "      <th>CONTRIBUTING FACTOR VEHICLE 5</th>\n",
              "      <th>COLLISION_ID</th>\n",
              "      <th>VEHICLE TYPE CODE 1</th>\n",
              "      <th>VEHICLE TYPE CODE 2</th>\n",
              "      <th>VEHICLE TYPE CODE 3</th>\n",
              "      <th>VEHICLE TYPE CODE 4</th>\n",
              "      <th>VEHICLE TYPE CODE 5</th>\n",
              "    </tr>\n",
              "  </thead>\n",
              "  <tbody>\n",
              "    <tr>\n",
              "      <th>238502</th>\n",
              "      <td>01/26/2018</td>\n",
              "      <td>18:00</td>\n",
              "      <td>STATEN ISLAND</td>\n",
              "      <td>10306.0</td>\n",
              "      <td>40.564537</td>\n",
              "      <td>-74.131710</td>\n",
              "      <td>AMBOY ROAD</td>\n",
              "      <td>0</td>\n",
              "      <td>0</td>\n",
              "      <td>0</td>\n",
              "      <td>0</td>\n",
              "      <td>2</td>\n",
              "      <td>0</td>\n",
              "      <td>Traffic Control Disregarded</td>\n",
              "      <td>Traffic Control Disregarded</td>\n",
              "      <td>NaN</td>\n",
              "      <td>NaN</td>\n",
              "      <td>NaN</td>\n",
              "      <td>3835233</td>\n",
              "      <td>PASSENGER VEHICLE</td>\n",
              "      <td>PASSENGER VEHICLE</td>\n",
              "      <td>NaN</td>\n",
              "      <td>NaN</td>\n",
              "      <td>NaN</td>\n",
              "    </tr>\n",
              "    <tr>\n",
              "      <th>238503</th>\n",
              "      <td>01/10/2018</td>\n",
              "      <td>14:30</td>\n",
              "      <td>QUEENS</td>\n",
              "      <td>11434.0</td>\n",
              "      <td>40.659397</td>\n",
              "      <td>-73.773384</td>\n",
              "      <td>NaN</td>\n",
              "      <td>0</td>\n",
              "      <td>0</td>\n",
              "      <td>0</td>\n",
              "      <td>0</td>\n",
              "      <td>0</td>\n",
              "      <td>0</td>\n",
              "      <td>Passing or Lane Usage Improper</td>\n",
              "      <td>Unspecified</td>\n",
              "      <td>NaN</td>\n",
              "      <td>NaN</td>\n",
              "      <td>NaN</td>\n",
              "      <td>3826287</td>\n",
              "      <td>TK</td>\n",
              "      <td>SPORT UTILITY / STATION WAGON</td>\n",
              "      <td>NaN</td>\n",
              "      <td>NaN</td>\n",
              "      <td>NaN</td>\n",
              "    </tr>\n",
              "    <tr>\n",
              "      <th>238504</th>\n",
              "      <td>01/16/2018</td>\n",
              "      <td>19:45</td>\n",
              "      <td>QUEENS</td>\n",
              "      <td>11106.0</td>\n",
              "      <td>40.761970</td>\n",
              "      <td>-73.925390</td>\n",
              "      <td>BROADWAY</td>\n",
              "      <td>0</td>\n",
              "      <td>0</td>\n",
              "      <td>0</td>\n",
              "      <td>0</td>\n",
              "      <td>0</td>\n",
              "      <td>0</td>\n",
              "      <td>Driver Inattention/Distraction</td>\n",
              "      <td>Unspecified</td>\n",
              "      <td>NaN</td>\n",
              "      <td>NaN</td>\n",
              "      <td>NaN</td>\n",
              "      <td>3830068</td>\n",
              "      <td>PASSENGER VEHICLE</td>\n",
              "      <td>TAXI</td>\n",
              "      <td>NaN</td>\n",
              "      <td>NaN</td>\n",
              "      <td>NaN</td>\n",
              "    </tr>\n",
              "    <tr>\n",
              "      <th>238505</th>\n",
              "      <td>01/21/2018</td>\n",
              "      <td>0:58</td>\n",
              "      <td>BRONX</td>\n",
              "      <td>10467.0</td>\n",
              "      <td>40.861256</td>\n",
              "      <td>-73.862720</td>\n",
              "      <td>WARING AVENUE</td>\n",
              "      <td>0</td>\n",
              "      <td>0</td>\n",
              "      <td>0</td>\n",
              "      <td>0</td>\n",
              "      <td>2</td>\n",
              "      <td>0</td>\n",
              "      <td>Driver Inattention/Distraction</td>\n",
              "      <td>Unspecified</td>\n",
              "      <td>NaN</td>\n",
              "      <td>NaN</td>\n",
              "      <td>NaN</td>\n",
              "      <td>3832720</td>\n",
              "      <td>SPORT UTILITY / STATION WAGON</td>\n",
              "      <td>PASSENGER VEHICLE</td>\n",
              "      <td>NaN</td>\n",
              "      <td>NaN</td>\n",
              "      <td>NaN</td>\n",
              "    </tr>\n",
              "    <tr>\n",
              "      <th>238506</th>\n",
              "      <td>01/06/2018</td>\n",
              "      <td>6:30</td>\n",
              "      <td>QUEENS</td>\n",
              "      <td>11370.0</td>\n",
              "      <td>40.755836</td>\n",
              "      <td>-73.892990</td>\n",
              "      <td>NaN</td>\n",
              "      <td>0</td>\n",
              "      <td>0</td>\n",
              "      <td>0</td>\n",
              "      <td>0</td>\n",
              "      <td>0</td>\n",
              "      <td>0</td>\n",
              "      <td>Driver Inattention/Distraction</td>\n",
              "      <td>Unspecified</td>\n",
              "      <td>NaN</td>\n",
              "      <td>NaN</td>\n",
              "      <td>NaN</td>\n",
              "      <td>3823388</td>\n",
              "      <td>PASSENGER VEHICLE</td>\n",
              "      <td>SPORT UTILITY / STATION WAGON</td>\n",
              "      <td>NaN</td>\n",
              "      <td>NaN</td>\n",
              "      <td>NaN</td>\n",
              "    </tr>\n",
              "    <tr>\n",
              "      <th>238507</th>\n",
              "      <td>01/29/2018</td>\n",
              "      <td>14:30</td>\n",
              "      <td>QUEENS</td>\n",
              "      <td>11385.0</td>\n",
              "      <td>40.711580</td>\n",
              "      <td>-73.901310</td>\n",
              "      <td>NaN</td>\n",
              "      <td>0</td>\n",
              "      <td>0</td>\n",
              "      <td>0</td>\n",
              "      <td>0</td>\n",
              "      <td>0</td>\n",
              "      <td>0</td>\n",
              "      <td>Passing Too Closely</td>\n",
              "      <td>Unspecified</td>\n",
              "      <td>NaN</td>\n",
              "      <td>NaN</td>\n",
              "      <td>NaN</td>\n",
              "      <td>3836896</td>\n",
              "      <td>SPORT UTILITY / STATION WAGON</td>\n",
              "      <td>PICK-UP TRUCK</td>\n",
              "      <td>NaN</td>\n",
              "      <td>NaN</td>\n",
              "      <td>NaN</td>\n",
              "    </tr>\n",
              "    <tr>\n",
              "      <th>238508</th>\n",
              "      <td>01/26/2018</td>\n",
              "      <td>11:20</td>\n",
              "      <td>MANHATTAN</td>\n",
              "      <td>10019.0</td>\n",
              "      <td>40.762062</td>\n",
              "      <td>-73.983635</td>\n",
              "      <td>WEST 51 STREET</td>\n",
              "      <td>0</td>\n",
              "      <td>0</td>\n",
              "      <td>0</td>\n",
              "      <td>0</td>\n",
              "      <td>0</td>\n",
              "      <td>0</td>\n",
              "      <td>Backing Unsafely</td>\n",
              "      <td>Unspecified</td>\n",
              "      <td>NaN</td>\n",
              "      <td>NaN</td>\n",
              "      <td>NaN</td>\n",
              "      <td>3837829</td>\n",
              "      <td>PASSENGER VEHICLE</td>\n",
              "      <td>TAXI</td>\n",
              "      <td>NaN</td>\n",
              "      <td>NaN</td>\n",
              "      <td>NaN</td>\n",
              "    </tr>\n",
              "    <tr>\n",
              "      <th>238509</th>\n",
              "      <td>01/11/2018</td>\n",
              "      <td>18:40</td>\n",
              "      <td>BROOKLYN</td>\n",
              "      <td>11225.0</td>\n",
              "      <td>40.659405</td>\n",
              "      <td>-73.962630</td>\n",
              "      <td>NaN</td>\n",
              "      <td>0</td>\n",
              "      <td>0</td>\n",
              "      <td>0</td>\n",
              "      <td>0</td>\n",
              "      <td>0</td>\n",
              "      <td>0</td>\n",
              "      <td>Unspecified</td>\n",
              "      <td>Unspecified</td>\n",
              "      <td>NaN</td>\n",
              "      <td>NaN</td>\n",
              "      <td>NaN</td>\n",
              "      <td>3826386</td>\n",
              "      <td>SPORT UTILITY / STATION WAGON</td>\n",
              "      <td>SPORT UTILITY / STATION WAGON</td>\n",
              "      <td>NaN</td>\n",
              "      <td>NaN</td>\n",
              "      <td>NaN</td>\n",
              "    </tr>\n",
              "    <tr>\n",
              "      <th>238510</th>\n",
              "      <td>02/01/2018</td>\n",
              "      <td>17:50</td>\n",
              "      <td>BROOKLYN</td>\n",
              "      <td>11207.0</td>\n",
              "      <td>40.685513</td>\n",
              "      <td>-73.908420</td>\n",
              "      <td>NaN</td>\n",
              "      <td>0</td>\n",
              "      <td>0</td>\n",
              "      <td>0</td>\n",
              "      <td>0</td>\n",
              "      <td>0</td>\n",
              "      <td>0</td>\n",
              "      <td>Other Vehicular</td>\n",
              "      <td>Passing Too Closely</td>\n",
              "      <td>NaN</td>\n",
              "      <td>NaN</td>\n",
              "      <td>NaN</td>\n",
              "      <td>3838554</td>\n",
              "      <td>PASSENGER VEHICLE</td>\n",
              "      <td>BU</td>\n",
              "      <td>NaN</td>\n",
              "      <td>NaN</td>\n",
              "      <td>NaN</td>\n",
              "    </tr>\n",
              "    <tr>\n",
              "      <th>238511</th>\n",
              "      <td>01/12/2018</td>\n",
              "      <td>8:00</td>\n",
              "      <td>BRONX</td>\n",
              "      <td>10460.0</td>\n",
              "      <td>40.841830</td>\n",
              "      <td>-73.883890</td>\n",
              "      <td>EAST TREMONT AVENUE</td>\n",
              "      <td>0</td>\n",
              "      <td>0</td>\n",
              "      <td>0</td>\n",
              "      <td>0</td>\n",
              "      <td>2</td>\n",
              "      <td>0</td>\n",
              "      <td>Driver Inattention/Distraction</td>\n",
              "      <td>Unspecified</td>\n",
              "      <td>NaN</td>\n",
              "      <td>NaN</td>\n",
              "      <td>NaN</td>\n",
              "      <td>3828938</td>\n",
              "      <td>SPORT UTILITY / STATION WAGON</td>\n",
              "      <td>TAXI</td>\n",
              "      <td>NaN</td>\n",
              "      <td>NaN</td>\n",
              "      <td>NaN</td>\n",
              "    </tr>\n",
              "    <tr>\n",
              "      <th>238512</th>\n",
              "      <td>01/17/2018</td>\n",
              "      <td>23:20</td>\n",
              "      <td>BRONX</td>\n",
              "      <td>10467.0</td>\n",
              "      <td>40.871376</td>\n",
              "      <td>-73.863340</td>\n",
              "      <td>BURKE AVENUE</td>\n",
              "      <td>0</td>\n",
              "      <td>0</td>\n",
              "      <td>0</td>\n",
              "      <td>0</td>\n",
              "      <td>1</td>\n",
              "      <td>0</td>\n",
              "      <td>Failure to Yield Right-of-Way</td>\n",
              "      <td>Unspecified</td>\n",
              "      <td>NaN</td>\n",
              "      <td>NaN</td>\n",
              "      <td>NaN</td>\n",
              "      <td>3831778</td>\n",
              "      <td>SPORT UTILITY / STATION WAGON</td>\n",
              "      <td>PASSENGER VEHICLE</td>\n",
              "      <td>NaN</td>\n",
              "      <td>NaN</td>\n",
              "      <td>NaN</td>\n",
              "    </tr>\n",
              "    <tr>\n",
              "      <th>238513</th>\n",
              "      <td>01/27/2018</td>\n",
              "      <td>18:30</td>\n",
              "      <td>BROOKLYN</td>\n",
              "      <td>11214.0</td>\n",
              "      <td>40.607300</td>\n",
              "      <td>-74.001080</td>\n",
              "      <td>NaN</td>\n",
              "      <td>0</td>\n",
              "      <td>0</td>\n",
              "      <td>0</td>\n",
              "      <td>0</td>\n",
              "      <td>0</td>\n",
              "      <td>0</td>\n",
              "      <td>Backing Unsafely</td>\n",
              "      <td>Unspecified</td>\n",
              "      <td>NaN</td>\n",
              "      <td>NaN</td>\n",
              "      <td>NaN</td>\n",
              "      <td>3835759</td>\n",
              "      <td>SPORT UTILITY / STATION WAGON</td>\n",
              "      <td>PASSENGER VEHICLE</td>\n",
              "      <td>NaN</td>\n",
              "      <td>NaN</td>\n",
              "      <td>NaN</td>\n",
              "    </tr>\n",
              "    <tr>\n",
              "      <th>238514</th>\n",
              "      <td>01/25/2018</td>\n",
              "      <td>13:00</td>\n",
              "      <td>BRONX</td>\n",
              "      <td>10470.0</td>\n",
              "      <td>40.906384</td>\n",
              "      <td>-73.851670</td>\n",
              "      <td>EAST 242 STREET</td>\n",
              "      <td>0</td>\n",
              "      <td>0</td>\n",
              "      <td>0</td>\n",
              "      <td>0</td>\n",
              "      <td>0</td>\n",
              "      <td>0</td>\n",
              "      <td>Other Vehicular</td>\n",
              "      <td>NaN</td>\n",
              "      <td>NaN</td>\n",
              "      <td>NaN</td>\n",
              "      <td>NaN</td>\n",
              "      <td>3836368</td>\n",
              "      <td>PASSENGER VEHICLE</td>\n",
              "      <td>NaN</td>\n",
              "      <td>NaN</td>\n",
              "      <td>NaN</td>\n",
              "      <td>NaN</td>\n",
              "    </tr>\n",
              "    <tr>\n",
              "      <th>238515</th>\n",
              "      <td>01/11/2018</td>\n",
              "      <td>19:30</td>\n",
              "      <td>QUEENS</td>\n",
              "      <td>11375.0</td>\n",
              "      <td>40.721363</td>\n",
              "      <td>-73.848080</td>\n",
              "      <td>AUSTIN STREET</td>\n",
              "      <td>1</td>\n",
              "      <td>0</td>\n",
              "      <td>0</td>\n",
              "      <td>0</td>\n",
              "      <td>0</td>\n",
              "      <td>0</td>\n",
              "      <td>Unspecified</td>\n",
              "      <td>NaN</td>\n",
              "      <td>NaN</td>\n",
              "      <td>NaN</td>\n",
              "      <td>NaN</td>\n",
              "      <td>3826674</td>\n",
              "      <td>Station Wagon/Sport Utility Vehicle</td>\n",
              "      <td>NaN</td>\n",
              "      <td>NaN</td>\n",
              "      <td>NaN</td>\n",
              "      <td>NaN</td>\n",
              "    </tr>\n",
              "    <tr>\n",
              "      <th>238516</th>\n",
              "      <td>01/03/2018</td>\n",
              "      <td>17:40</td>\n",
              "      <td>BROOKLYN</td>\n",
              "      <td>11208.0</td>\n",
              "      <td>40.670860</td>\n",
              "      <td>-73.874240</td>\n",
              "      <td>FOUNTAIN AVENUE</td>\n",
              "      <td>0</td>\n",
              "      <td>0</td>\n",
              "      <td>0</td>\n",
              "      <td>0</td>\n",
              "      <td>0</td>\n",
              "      <td>0</td>\n",
              "      <td>Failure to Keep Right</td>\n",
              "      <td>Unspecified</td>\n",
              "      <td>NaN</td>\n",
              "      <td>NaN</td>\n",
              "      <td>NaN</td>\n",
              "      <td>3821922</td>\n",
              "      <td>PASSENGER VEHICLE</td>\n",
              "      <td>PASSENGER VEHICLE</td>\n",
              "      <td>NaN</td>\n",
              "      <td>NaN</td>\n",
              "      <td>NaN</td>\n",
              "    </tr>\n",
              "    <tr>\n",
              "      <th>238517</th>\n",
              "      <td>01/20/2018</td>\n",
              "      <td>15:00</td>\n",
              "      <td>QUEENS</td>\n",
              "      <td>11436.0</td>\n",
              "      <td>40.685356</td>\n",
              "      <td>-73.797230</td>\n",
              "      <td>LINDEN BOULEVARD</td>\n",
              "      <td>0</td>\n",
              "      <td>0</td>\n",
              "      <td>0</td>\n",
              "      <td>0</td>\n",
              "      <td>0</td>\n",
              "      <td>0</td>\n",
              "      <td>Driver Inattention/Distraction</td>\n",
              "      <td>Unspecified</td>\n",
              "      <td>NaN</td>\n",
              "      <td>NaN</td>\n",
              "      <td>NaN</td>\n",
              "      <td>3832275</td>\n",
              "      <td>SPORT UTILITY / STATION WAGON</td>\n",
              "      <td>PASSENGER VEHICLE</td>\n",
              "      <td>NaN</td>\n",
              "      <td>NaN</td>\n",
              "      <td>NaN</td>\n",
              "    </tr>\n",
              "    <tr>\n",
              "      <th>238518</th>\n",
              "      <td>01/04/2018</td>\n",
              "      <td>14:00</td>\n",
              "      <td>BRONX</td>\n",
              "      <td>10452.0</td>\n",
              "      <td>40.845180</td>\n",
              "      <td>-73.914170</td>\n",
              "      <td>JEROME AVENUE</td>\n",
              "      <td>0</td>\n",
              "      <td>0</td>\n",
              "      <td>0</td>\n",
              "      <td>0</td>\n",
              "      <td>0</td>\n",
              "      <td>0</td>\n",
              "      <td>Pavement Slippery</td>\n",
              "      <td>NaN</td>\n",
              "      <td>NaN</td>\n",
              "      <td>NaN</td>\n",
              "      <td>NaN</td>\n",
              "      <td>3822315</td>\n",
              "      <td>SPORT UTILITY / STATION WAGON</td>\n",
              "      <td>NaN</td>\n",
              "      <td>NaN</td>\n",
              "      <td>NaN</td>\n",
              "      <td>NaN</td>\n",
              "    </tr>\n",
              "    <tr>\n",
              "      <th>238519</th>\n",
              "      <td>01/20/2018</td>\n",
              "      <td>13:05</td>\n",
              "      <td>BRONX</td>\n",
              "      <td>10462.0</td>\n",
              "      <td>40.831210</td>\n",
              "      <td>-73.850876</td>\n",
              "      <td>CASTLE HILL AVENUE</td>\n",
              "      <td>0</td>\n",
              "      <td>0</td>\n",
              "      <td>0</td>\n",
              "      <td>0</td>\n",
              "      <td>0</td>\n",
              "      <td>0</td>\n",
              "      <td>Unsafe Lane Changing</td>\n",
              "      <td>Unspecified</td>\n",
              "      <td>NaN</td>\n",
              "      <td>NaN</td>\n",
              "      <td>NaN</td>\n",
              "      <td>3832513</td>\n",
              "      <td>PASSENGER VEHICLE</td>\n",
              "      <td>SPORT UTILITY / STATION WAGON</td>\n",
              "      <td>NaN</td>\n",
              "      <td>NaN</td>\n",
              "      <td>NaN</td>\n",
              "    </tr>\n",
              "    <tr>\n",
              "      <th>238520</th>\n",
              "      <td>01/29/2018</td>\n",
              "      <td>17:45</td>\n",
              "      <td>QUEENS</td>\n",
              "      <td>11377.0</td>\n",
              "      <td>40.757250</td>\n",
              "      <td>-73.904854</td>\n",
              "      <td>31 AVENUE</td>\n",
              "      <td>0</td>\n",
              "      <td>0</td>\n",
              "      <td>0</td>\n",
              "      <td>0</td>\n",
              "      <td>2</td>\n",
              "      <td>0</td>\n",
              "      <td>Failure to Yield Right-of-Way</td>\n",
              "      <td>Unspecified</td>\n",
              "      <td>NaN</td>\n",
              "      <td>NaN</td>\n",
              "      <td>NaN</td>\n",
              "      <td>3837608</td>\n",
              "      <td>SPORT UTILITY / STATION WAGON</td>\n",
              "      <td>PASSENGER VEHICLE</td>\n",
              "      <td>NaN</td>\n",
              "      <td>NaN</td>\n",
              "      <td>NaN</td>\n",
              "    </tr>\n",
              "    <tr>\n",
              "      <th>238521</th>\n",
              "      <td>01/23/2018</td>\n",
              "      <td>16:38</td>\n",
              "      <td>BROOKLYN</td>\n",
              "      <td>11211.0</td>\n",
              "      <td>40.710197</td>\n",
              "      <td>-73.958430</td>\n",
              "      <td>HAVEMEYER STREET</td>\n",
              "      <td>0</td>\n",
              "      <td>0</td>\n",
              "      <td>0</td>\n",
              "      <td>0</td>\n",
              "      <td>0</td>\n",
              "      <td>0</td>\n",
              "      <td>Following Too Closely</td>\n",
              "      <td>Passing or Lane Usage Improper</td>\n",
              "      <td>NaN</td>\n",
              "      <td>NaN</td>\n",
              "      <td>NaN</td>\n",
              "      <td>3833631</td>\n",
              "      <td>SPORT UTILITY / STATION WAGON</td>\n",
              "      <td>SPORT UTILITY / STATION WAGON</td>\n",
              "      <td>NaN</td>\n",
              "      <td>NaN</td>\n",
              "      <td>NaN</td>\n",
              "    </tr>\n",
              "  </tbody>\n",
              "</table>\n",
              "</div>"
            ],
            "text/plain": [
              "              DATE   TIME  ... VEHICLE TYPE CODE 4  VEHICLE TYPE CODE 5\n",
              "238502  01/26/2018  18:00  ...                 NaN                  NaN\n",
              "238503  01/10/2018  14:30  ...                 NaN                  NaN\n",
              "238504  01/16/2018  19:45  ...                 NaN                  NaN\n",
              "238505  01/21/2018   0:58  ...                 NaN                  NaN\n",
              "238506  01/06/2018   6:30  ...                 NaN                  NaN\n",
              "238507  01/29/2018  14:30  ...                 NaN                  NaN\n",
              "238508  01/26/2018  11:20  ...                 NaN                  NaN\n",
              "238509  01/11/2018  18:40  ...                 NaN                  NaN\n",
              "238510  02/01/2018  17:50  ...                 NaN                  NaN\n",
              "238511  01/12/2018   8:00  ...                 NaN                  NaN\n",
              "238512  01/17/2018  23:20  ...                 NaN                  NaN\n",
              "238513  01/27/2018  18:30  ...                 NaN                  NaN\n",
              "238514  01/25/2018  13:00  ...                 NaN                  NaN\n",
              "238515  01/11/2018  19:30  ...                 NaN                  NaN\n",
              "238516  01/03/2018  17:40  ...                 NaN                  NaN\n",
              "238517  01/20/2018  15:00  ...                 NaN                  NaN\n",
              "238518  01/04/2018  14:00  ...                 NaN                  NaN\n",
              "238519  01/20/2018  13:05  ...                 NaN                  NaN\n",
              "238520  01/29/2018  17:45  ...                 NaN                  NaN\n",
              "238521  01/23/2018  16:38  ...                 NaN                  NaN\n",
              "\n",
              "[20 rows x 24 columns]"
            ]
          },
          "metadata": {},
          "execution_count": 17
        }
      ]
    },
    {
      "cell_type": "markdown",
      "metadata": {
        "id": "EctCpffMT6cM"
      },
      "source": [
        "## Overview de la data"
      ]
    },
    {
      "cell_type": "markdown",
      "metadata": {
        "id": "vLrYvT6jT6cM"
      },
      "source": [
        "Analizemos las columnas presentes en el data frame"
      ]
    },
    {
      "cell_type": "code",
      "metadata": {
        "scrolled": true,
        "colab": {
          "base_uri": "https://localhost:8080/"
        },
        "id": "YPbG3XJbT6cN",
        "outputId": "1df0c994-492a-4d4e-a1f6-293248a7d833"
      },
      "source": [
        "df.columns"
      ],
      "execution_count": null,
      "outputs": [
        {
          "output_type": "execute_result",
          "data": {
            "text/plain": [
              "Index(['DATE', 'TIME', 'BOROUGH', 'ZIP CODE', 'LATITUDE', 'LONGITUDE',\n",
              "       'ON STREET NAME', 'NUMBER OF PEDESTRIANS INJURED',\n",
              "       'NUMBER OF PEDESTRIANS KILLED', 'NUMBER OF CYCLIST INJURED',\n",
              "       'NUMBER OF CYCLIST KILLED', 'NUMBER OF MOTORIST INJURED',\n",
              "       'NUMBER OF MOTORIST KILLED', 'CONTRIBUTING FACTOR VEHICLE 1',\n",
              "       'CONTRIBUTING FACTOR VEHICLE 2', 'CONTRIBUTING FACTOR VEHICLE 3',\n",
              "       'CONTRIBUTING FACTOR VEHICLE 4', 'CONTRIBUTING FACTOR VEHICLE 5',\n",
              "       'COLLISION_ID', 'VEHICLE TYPE CODE 1', 'VEHICLE TYPE CODE 2',\n",
              "       'VEHICLE TYPE CODE 3', 'VEHICLE TYPE CODE 4', 'VEHICLE TYPE CODE 5'],\n",
              "      dtype='object')"
            ]
          },
          "metadata": {},
          "execution_count": 18
        }
      ]
    },
    {
      "cell_type": "code",
      "metadata": {
        "colab": {
          "base_uri": "https://localhost:8080/"
        },
        "id": "z3qEuMKcZFiJ",
        "outputId": "9ebd9792-3603-4664-80cf-70c06840d2dc"
      },
      "source": [
        "df.info()"
      ],
      "execution_count": null,
      "outputs": [
        {
          "output_type": "stream",
          "name": "stdout",
          "text": [
            "<class 'pandas.core.frame.DataFrame'>\n",
            "RangeIndex: 238522 entries, 0 to 238521\n",
            "Data columns (total 24 columns):\n",
            " #   Column                         Non-Null Count   Dtype  \n",
            "---  ------                         --------------   -----  \n",
            " 0   DATE                           238522 non-null  object \n",
            " 1   TIME                           238522 non-null  object \n",
            " 2   BOROUGH                        238522 non-null  object \n",
            " 3   ZIP CODE                       238452 non-null  float64\n",
            " 4   LATITUDE                       231544 non-null  float64\n",
            " 5   LONGITUDE                      231544 non-null  float64\n",
            " 6   ON STREET NAME                 153918 non-null  object \n",
            " 7   NUMBER OF PEDESTRIANS INJURED  238522 non-null  int64  \n",
            " 8   NUMBER OF PEDESTRIANS KILLED   238522 non-null  int64  \n",
            " 9   NUMBER OF CYCLIST INJURED      238522 non-null  int64  \n",
            " 10  NUMBER OF CYCLIST KILLED       238522 non-null  int64  \n",
            " 11  NUMBER OF MOTORIST INJURED     238522 non-null  int64  \n",
            " 12  NUMBER OF MOTORIST KILLED      238522 non-null  int64  \n",
            " 13  CONTRIBUTING FACTOR VEHICLE 1  237638 non-null  object \n",
            " 14  CONTRIBUTING FACTOR VEHICLE 2  198514 non-null  object \n",
            " 15  CONTRIBUTING FACTOR VEHICLE 3  13072 non-null   object \n",
            " 16  CONTRIBUTING FACTOR VEHICLE 4  2856 non-null    object \n",
            " 17  CONTRIBUTING FACTOR VEHICLE 5  792 non-null     object \n",
            " 18  COLLISION_ID                   238522 non-null  int64  \n",
            " 19  VEHICLE TYPE CODE 1            236801 non-null  object \n",
            " 20  VEHICLE TYPE CODE 2            182932 non-null  object \n",
            " 21  VEHICLE TYPE CODE 3            12301 non-null   object \n",
            " 22  VEHICLE TYPE CODE 4            2716 non-null    object \n",
            " 23  VEHICLE TYPE CODE 5            753 non-null     object \n",
            "dtypes: float64(3), int64(7), object(14)\n",
            "memory usage: 43.7+ MB\n"
          ]
        }
      ]
    },
    {
      "cell_type": "code",
      "metadata": {
        "colab": {
          "base_uri": "https://localhost:8080/",
          "height": 355
        },
        "id": "Cs317jRma-UD",
        "outputId": "8099aa5c-618b-42cd-8df2-ed9f586d27da"
      },
      "source": [
        "df.describe()"
      ],
      "execution_count": null,
      "outputs": [
        {
          "output_type": "execute_result",
          "data": {
            "text/html": [
              "<div>\n",
              "<style scoped>\n",
              "    .dataframe tbody tr th:only-of-type {\n",
              "        vertical-align: middle;\n",
              "    }\n",
              "\n",
              "    .dataframe tbody tr th {\n",
              "        vertical-align: top;\n",
              "    }\n",
              "\n",
              "    .dataframe thead th {\n",
              "        text-align: right;\n",
              "    }\n",
              "</style>\n",
              "<table border=\"1\" class=\"dataframe\">\n",
              "  <thead>\n",
              "    <tr style=\"text-align: right;\">\n",
              "      <th></th>\n",
              "      <th>ZIP CODE</th>\n",
              "      <th>LATITUDE</th>\n",
              "      <th>LONGITUDE</th>\n",
              "      <th>NUMBER OF PEDESTRIANS INJURED</th>\n",
              "      <th>NUMBER OF PEDESTRIANS KILLED</th>\n",
              "      <th>NUMBER OF CYCLIST INJURED</th>\n",
              "      <th>NUMBER OF CYCLIST KILLED</th>\n",
              "      <th>NUMBER OF MOTORIST INJURED</th>\n",
              "      <th>NUMBER OF MOTORIST KILLED</th>\n",
              "      <th>COLLISION_ID</th>\n",
              "    </tr>\n",
              "  </thead>\n",
              "  <tbody>\n",
              "    <tr>\n",
              "      <th>count</th>\n",
              "      <td>238452.000000</td>\n",
              "      <td>231544.000000</td>\n",
              "      <td>231544.000000</td>\n",
              "      <td>238522.000000</td>\n",
              "      <td>238522.000000</td>\n",
              "      <td>238522.000000</td>\n",
              "      <td>238522.000000</td>\n",
              "      <td>238522.000000</td>\n",
              "      <td>238522.000000</td>\n",
              "      <td>2.385220e+05</td>\n",
              "    </tr>\n",
              "    <tr>\n",
              "      <th>mean</th>\n",
              "      <td>10865.578838</td>\n",
              "      <td>40.656873</td>\n",
              "      <td>-73.797699</td>\n",
              "      <td>0.054523</td>\n",
              "      <td>0.000532</td>\n",
              "      <td>0.023482</td>\n",
              "      <td>0.000084</td>\n",
              "      <td>0.178076</td>\n",
              "      <td>0.000310</td>\n",
              "      <td>4.008044e+06</td>\n",
              "    </tr>\n",
              "    <tr>\n",
              "      <th>std</th>\n",
              "      <td>546.056571</td>\n",
              "      <td>1.632850</td>\n",
              "      <td>2.961521</td>\n",
              "      <td>0.237834</td>\n",
              "      <td>0.023250</td>\n",
              "      <td>0.152835</td>\n",
              "      <td>0.009157</td>\n",
              "      <td>0.587479</td>\n",
              "      <td>0.017848</td>\n",
              "      <td>1.084693e+05</td>\n",
              "    </tr>\n",
              "    <tr>\n",
              "      <th>min</th>\n",
              "      <td>10000.000000</td>\n",
              "      <td>0.000000</td>\n",
              "      <td>-74.253930</td>\n",
              "      <td>0.000000</td>\n",
              "      <td>0.000000</td>\n",
              "      <td>0.000000</td>\n",
              "      <td>0.000000</td>\n",
              "      <td>0.000000</td>\n",
              "      <td>0.000000</td>\n",
              "      <td>3.511951e+06</td>\n",
              "    </tr>\n",
              "    <tr>\n",
              "      <th>25%</th>\n",
              "      <td>10452.000000</td>\n",
              "      <td>40.666750</td>\n",
              "      <td>-73.973860</td>\n",
              "      <td>0.000000</td>\n",
              "      <td>0.000000</td>\n",
              "      <td>0.000000</td>\n",
              "      <td>0.000000</td>\n",
              "      <td>0.000000</td>\n",
              "      <td>0.000000</td>\n",
              "      <td>3.913739e+06</td>\n",
              "    </tr>\n",
              "    <tr>\n",
              "      <th>50%</th>\n",
              "      <td>11208.000000</td>\n",
              "      <td>40.717007</td>\n",
              "      <td>-73.922770</td>\n",
              "      <td>0.000000</td>\n",
              "      <td>0.000000</td>\n",
              "      <td>0.000000</td>\n",
              "      <td>0.000000</td>\n",
              "      <td>0.000000</td>\n",
              "      <td>0.000000</td>\n",
              "      <td>4.006476e+06</td>\n",
              "    </tr>\n",
              "    <tr>\n",
              "      <th>75%</th>\n",
              "      <td>11354.000000</td>\n",
              "      <td>40.765715</td>\n",
              "      <td>-73.864890</td>\n",
              "      <td>0.000000</td>\n",
              "      <td>0.000000</td>\n",
              "      <td>0.000000</td>\n",
              "      <td>0.000000</td>\n",
              "      <td>0.000000</td>\n",
              "      <td>0.000000</td>\n",
              "      <td>4.102648e+06</td>\n",
              "    </tr>\n",
              "    <tr>\n",
              "      <th>max</th>\n",
              "      <td>11697.000000</td>\n",
              "      <td>40.912884</td>\n",
              "      <td>0.000000</td>\n",
              "      <td>6.000000</td>\n",
              "      <td>2.000000</td>\n",
              "      <td>3.000000</td>\n",
              "      <td>1.000000</td>\n",
              "      <td>21.000000</td>\n",
              "      <td>2.000000</td>\n",
              "      <td>4.195347e+06</td>\n",
              "    </tr>\n",
              "  </tbody>\n",
              "</table>\n",
              "</div>"
            ],
            "text/plain": [
              "            ZIP CODE       LATITUDE  ...  NUMBER OF MOTORIST KILLED  COLLISION_ID\n",
              "count  238452.000000  231544.000000  ...              238522.000000  2.385220e+05\n",
              "mean    10865.578838      40.656873  ...                   0.000310  4.008044e+06\n",
              "std       546.056571       1.632850  ...                   0.017848  1.084693e+05\n",
              "min     10000.000000       0.000000  ...                   0.000000  3.511951e+06\n",
              "25%     10452.000000      40.666750  ...                   0.000000  3.913739e+06\n",
              "50%     11208.000000      40.717007  ...                   0.000000  4.006476e+06\n",
              "75%     11354.000000      40.765715  ...                   0.000000  4.102648e+06\n",
              "max     11697.000000      40.912884  ...                   2.000000  4.195347e+06\n",
              "\n",
              "[8 rows x 10 columns]"
            ]
          },
          "metadata": {},
          "execution_count": 20
        }
      ]
    },
    {
      "cell_type": "markdown",
      "metadata": {
        "id": "smBu7zp6T6cO"
      },
      "source": [
        "Tenemos las siguientes columnas\n",
        "\n",
        "1. **BOROUGH**: el municipio en el que ocurrió el accidente\n",
        "2. **COLLISION_ID**: un identificador único para esta colisión\n",
        "3. **CONTRIBUTING FACTOR VEHICLE (1, 2, 3, 4, 5)**: Motivos del accidente\n",
        "4. **CROSS STREET NAME**: Calle transversal más cercana al lugar del accidente\n",
        "5. **DATE**: Fecha del accidente\n",
        "6. **TIME**: Hora del accidente\n",
        "7. **LATITUDE**: Latitud del accidente\n",
        "8. **LONGITUDE**: Longitud del accidente\n",
        "9. **NUMBER OF (CYCLISTS, MOTORISTS, PEDESTRIANS) INJURED**: Lesión por categoría\n",
        "10. **NUMBER OF (CYCLISTS, MOTORISTS, PEDESTRIANS) DEATHS**: Categoría muerte sabia\n",
        "11. **ON STREET NAME**: Calle donde ocurrió el accidente\n",
        "13. **VEHICLE TYPE CODE(1, 2, 3, 4, 5)**: Tipos de vehículos involucrados en el accidente\n",
        "14. **ZIP CODE**: código postal del lugar del accidente"
      ]
    },
    {
      "cell_type": "markdown",
      "metadata": {
        "id": "mI0WmpMbT6cO"
      },
      "source": [
        "### Exercise 1 (30 min):\n",
        "\n",
        "Desde 2014, la ciudad de Nueva York ha estado implementando un plan de seguridad vial llamado [Vision Zero](https://www1.nyc.gov/content/visionzero/pages/). Su objetivo es reducir el número de muertes por accidentes de tránsito a *cero* para fines de 2024. El plan está creando nuevas y mejorando las medidas de seguridad actuales, algunas de ellas incluyen:\n",
        "\n",
        "- [ ] Detección de peatones automatizada\n",
        "- [ ] Auditorías de seguridad vial en lugares de alto riesgo\n",
        "- [ ] Ampliación de la red de carriles bici\n",
        "- [ ] Iniciativas específicas de educación y sensibilización\n",
        "- [ ] Creación de islas de refugio peatonal\n",
        "- [ ] Lanzamiento del programa integrado de reductor de velocidad basado en datos (topes y amortiguadores de velocidad)\n",
        "\n",
        "¿Cuáles de estas iniciativas podrían beneficiarse directamente de un análisis de los datos proporcionados? Marque todo lo que corresponda.\n",
        "\n",
        "**Nota:** Puede crear marcas de verificación haciendo doble clic en esta celda y agregando una ```[x]``` en las líneas correspondientes."
      ]
    },
    {
      "cell_type": "markdown",
      "metadata": {
        "id": "Z2O5DQZZT6cP"
      },
      "source": [
        "**Answer.**\n",
        "\n",
        "- [ ] Detecciòn de peatones automatizada\n",
        "\n",
        "\n",
        "- [ x ] Auditorías de seguridadvial en lugares de alto riesgo\n",
        "\n",
        "- [ ] Ampliación de la red de carriles bici\n",
        "\n",
        "- [ x ] Iniciativas especificas de educación y sensibilización\n",
        "\n",
        "- [ ] Creación de islas de refugio peatonal\n",
        "\n",
        "- [ x ] Lanzamiento del programa integrado de reductor de velocidad en datos (topes y amortiguadores de velocidad)\n"
      ]
    },
    {
      "cell_type": "markdown",
      "metadata": {
        "id": "zsJ9xBuOT6cQ"
      },
      "source": [
        "Sigamos adelante y respondamos a cada una de las preguntas del cliente."
      ]
    },
    {
      "cell_type": "markdown",
      "metadata": {
        "id": "Mo6bwVwzT6cR"
      },
      "source": [
        "## Respondiendo las preguntas del cliente "
      ]
    },
    {
      "cell_type": "markdown",
      "metadata": {
        "id": "YNRwBUUCT6cR"
      },
      "source": [
        "### Exercise 2 (30 min):\n",
        "\n",
        "Agrupe los datos disponibles mensualmente y genere un line plot de accidentes a lo largo del tiempo. ¿Ha aumentado el número de accidentes durante el último año y medio?\n",
        "\n",
        "**Sugerencia**: Puede encontrar útiles las funciones de pandas ```to_datetime ()``` y ```dt.to_period ()```."
      ]
    },
    {
      "cell_type": "markdown",
      "metadata": {
        "id": "vRGHyJfyT6cS"
      },
      "source": [
        "**Answer.** "
      ]
    },
    {
      "cell_type": "code",
      "metadata": {
        "colab": {
          "base_uri": "https://localhost:8080/",
          "height": 153
        },
        "id": "uIs10Cr-T6cS",
        "outputId": "c27c32f2-72de-4aea-f36a-efb06e0364d9"
      },
      "source": [
        "df.head(1)"
      ],
      "execution_count": null,
      "outputs": [
        {
          "output_type": "execute_result",
          "data": {
            "text/html": [
              "<div>\n",
              "<style scoped>\n",
              "    .dataframe tbody tr th:only-of-type {\n",
              "        vertical-align: middle;\n",
              "    }\n",
              "\n",
              "    .dataframe tbody tr th {\n",
              "        vertical-align: top;\n",
              "    }\n",
              "\n",
              "    .dataframe thead th {\n",
              "        text-align: right;\n",
              "    }\n",
              "</style>\n",
              "<table border=\"1\" class=\"dataframe\">\n",
              "  <thead>\n",
              "    <tr style=\"text-align: right;\">\n",
              "      <th></th>\n",
              "      <th>DATE</th>\n",
              "      <th>TIME</th>\n",
              "      <th>BOROUGH</th>\n",
              "      <th>ZIP CODE</th>\n",
              "      <th>LATITUDE</th>\n",
              "      <th>LONGITUDE</th>\n",
              "      <th>ON STREET NAME</th>\n",
              "      <th>NUMBER OF PEDESTRIANS INJURED</th>\n",
              "      <th>NUMBER OF PEDESTRIANS KILLED</th>\n",
              "      <th>NUMBER OF CYCLIST INJURED</th>\n",
              "      <th>NUMBER OF CYCLIST KILLED</th>\n",
              "      <th>NUMBER OF MOTORIST INJURED</th>\n",
              "      <th>NUMBER OF MOTORIST KILLED</th>\n",
              "      <th>CONTRIBUTING FACTOR VEHICLE 1</th>\n",
              "      <th>CONTRIBUTING FACTOR VEHICLE 2</th>\n",
              "      <th>CONTRIBUTING FACTOR VEHICLE 3</th>\n",
              "      <th>CONTRIBUTING FACTOR VEHICLE 4</th>\n",
              "      <th>CONTRIBUTING FACTOR VEHICLE 5</th>\n",
              "      <th>COLLISION_ID</th>\n",
              "      <th>VEHICLE TYPE CODE 1</th>\n",
              "      <th>VEHICLE TYPE CODE 2</th>\n",
              "      <th>VEHICLE TYPE CODE 3</th>\n",
              "      <th>VEHICLE TYPE CODE 4</th>\n",
              "      <th>VEHICLE TYPE CODE 5</th>\n",
              "    </tr>\n",
              "  </thead>\n",
              "  <tbody>\n",
              "    <tr>\n",
              "      <th>0</th>\n",
              "      <td>09/26/2018</td>\n",
              "      <td>12:12</td>\n",
              "      <td>BRONX</td>\n",
              "      <td>10454.0</td>\n",
              "      <td>40.808987</td>\n",
              "      <td>-73.911316</td>\n",
              "      <td>NaN</td>\n",
              "      <td>0</td>\n",
              "      <td>0</td>\n",
              "      <td>0</td>\n",
              "      <td>0</td>\n",
              "      <td>0</td>\n",
              "      <td>0</td>\n",
              "      <td>Unspecified</td>\n",
              "      <td>NaN</td>\n",
              "      <td>NaN</td>\n",
              "      <td>NaN</td>\n",
              "      <td>NaN</td>\n",
              "      <td>3988123</td>\n",
              "      <td>Sedan</td>\n",
              "      <td>NaN</td>\n",
              "      <td>NaN</td>\n",
              "      <td>NaN</td>\n",
              "      <td>NaN</td>\n",
              "    </tr>\n",
              "  </tbody>\n",
              "</table>\n",
              "</div>"
            ],
            "text/plain": [
              "         DATE   TIME  ... VEHICLE TYPE CODE 4  VEHICLE TYPE CODE 5\n",
              "0  09/26/2018  12:12  ...                 NaN                  NaN\n",
              "\n",
              "[1 rows x 24 columns]"
            ]
          },
          "metadata": {},
          "execution_count": 21
        }
      ]
    },
    {
      "cell_type": "code",
      "metadata": {
        "colab": {
          "base_uri": "https://localhost:8080/"
        },
        "id": "O7gE5tJ1q2Un",
        "outputId": "77cb6c0f-7b1e-4770-f9e5-4645dd5bb32c"
      },
      "source": [
        "df.info()"
      ],
      "execution_count": null,
      "outputs": [
        {
          "output_type": "stream",
          "name": "stdout",
          "text": [
            "<class 'pandas.core.frame.DataFrame'>\n",
            "RangeIndex: 238522 entries, 0 to 238521\n",
            "Data columns (total 24 columns):\n",
            " #   Column                         Non-Null Count   Dtype  \n",
            "---  ------                         --------------   -----  \n",
            " 0   DATE                           238522 non-null  object \n",
            " 1   TIME                           238522 non-null  object \n",
            " 2   BOROUGH                        238522 non-null  object \n",
            " 3   ZIP CODE                       238452 non-null  float64\n",
            " 4   LATITUDE                       231544 non-null  float64\n",
            " 5   LONGITUDE                      231544 non-null  float64\n",
            " 6   ON STREET NAME                 153918 non-null  object \n",
            " 7   NUMBER OF PEDESTRIANS INJURED  238522 non-null  int64  \n",
            " 8   NUMBER OF PEDESTRIANS KILLED   238522 non-null  int64  \n",
            " 9   NUMBER OF CYCLIST INJURED      238522 non-null  int64  \n",
            " 10  NUMBER OF CYCLIST KILLED       238522 non-null  int64  \n",
            " 11  NUMBER OF MOTORIST INJURED     238522 non-null  int64  \n",
            " 12  NUMBER OF MOTORIST KILLED      238522 non-null  int64  \n",
            " 13  CONTRIBUTING FACTOR VEHICLE 1  237638 non-null  object \n",
            " 14  CONTRIBUTING FACTOR VEHICLE 2  198514 non-null  object \n",
            " 15  CONTRIBUTING FACTOR VEHICLE 3  13072 non-null   object \n",
            " 16  CONTRIBUTING FACTOR VEHICLE 4  2856 non-null    object \n",
            " 17  CONTRIBUTING FACTOR VEHICLE 5  792 non-null     object \n",
            " 18  COLLISION_ID                   238522 non-null  int64  \n",
            " 19  VEHICLE TYPE CODE 1            236801 non-null  object \n",
            " 20  VEHICLE TYPE CODE 2            182932 non-null  object \n",
            " 21  VEHICLE TYPE CODE 3            12301 non-null   object \n",
            " 22  VEHICLE TYPE CODE 4            2716 non-null    object \n",
            " 23  VEHICLE TYPE CODE 5            753 non-null     object \n",
            "dtypes: float64(3), int64(7), object(14)\n",
            "memory usage: 43.7+ MB\n"
          ]
        }
      ]
    },
    {
      "cell_type": "markdown",
      "metadata": {
        "id": "uifio0TiT6cT"
      },
      "source": [
        ""
      ]
    },
    {
      "cell_type": "code",
      "metadata": {
        "colab": {
          "base_uri": "https://localhost:8080/",
          "height": 308
        },
        "id": "MNhKIuUkghD0",
        "outputId": "685cc6d2-49f8-4292-b9f3-fe60aad85c83"
      },
      "source": [
        "df['DATE']= pd.to_datetime(df['DATE'])\n",
        "\n",
        "accint_mensuales = df.groupby(df['DATE'].dt.to_period('M')).size()\n",
        "accint_mensuales.plot.line()\n",
        "\n"
      ],
      "execution_count": null,
      "outputs": [
        {
          "output_type": "execute_result",
          "data": {
            "text/plain": [
              "<matplotlib.axes._subplots.AxesSubplot at 0x7f545e6bd090>"
            ]
          },
          "metadata": {},
          "execution_count": 23
        },
        {
          "output_type": "display_data",
          "data": {
            "image/png": "[encoded data removed]",
            "text/plain": [
              "<Figure size 432x288 with 1 Axes>"
            ]
          },
          "metadata": {
            "needs_background": "light"
          }
        }
      ]
    },
    {
      "cell_type": "markdown",
      "metadata": {
        "id": "kM5KmJpET6cT"
      },
      "source": [
        "### Exercise 3 (15 min):\n",
        "\n",
        "De la gráfica anterior, ¿qué meses parecen tener el menor número de accidentes? ¿Cuáles crees que son las razones detrás de esto?"
      ]
    },
    {
      "cell_type": "markdown",
      "metadata": {
        "id": "20NdHNQBT6cT"
      },
      "source": [
        "**Answer.** \n"
      ]
    },
    {
      "cell_type": "code",
      "metadata": {
        "colab": {
          "base_uri": "https://localhost:8080/"
        },
        "id": "SrfobpVrT6cU",
        "outputId": "c5a45d24-17c5-449b-f9d3-211dbb248fc7"
      },
      "source": [
        "accint_mensuales.mean()"
      ],
      "execution_count": null,
      "outputs": [
        {
          "output_type": "execute_result",
          "data": {
            "text/plain": [
              "11926.1"
            ]
          },
          "metadata": {},
          "execution_count": 24
        }
      ]
    },
    {
      "cell_type": "code",
      "metadata": {
        "colab": {
          "base_uri": "https://localhost:8080/",
          "height": 424
        },
        "id": "t-aD6Tzzs5Ro",
        "outputId": "91163093-8784-4c1c-f3be-fbd52cf2a96c"
      },
      "source": [
        "dfa= df[['DATE','COLLISION_ID']]\n",
        "dfa"
      ],
      "execution_count": 38,
      "outputs": [
        {
          "output_type": "execute_result",
          "data": {
            "text/html": [
              "<div>\n",
              "<style scoped>\n",
              "    .dataframe tbody tr th:only-of-type {\n",
              "        vertical-align: middle;\n",
              "    }\n",
              "\n",
              "    .dataframe tbody tr th {\n",
              "        vertical-align: top;\n",
              "    }\n",
              "\n",
              "    .dataframe thead th {\n",
              "        text-align: right;\n",
              "    }\n",
              "</style>\n",
              "<table border=\"1\" class=\"dataframe\">\n",
              "  <thead>\n",
              "    <tr style=\"text-align: right;\">\n",
              "      <th></th>\n",
              "      <th>DATE</th>\n",
              "      <th>COLLISION_ID</th>\n",
              "    </tr>\n",
              "  </thead>\n",
              "  <tbody>\n",
              "    <tr>\n",
              "      <th>0</th>\n",
              "      <td>2018-09-26</td>\n",
              "      <td>3988123</td>\n",
              "    </tr>\n",
              "    <tr>\n",
              "      <th>1</th>\n",
              "      <td>2018-09-25</td>\n",
              "      <td>3987962</td>\n",
              "    </tr>\n",
              "    <tr>\n",
              "      <th>2</th>\n",
              "      <td>2019-08-22</td>\n",
              "      <td>4193132</td>\n",
              "    </tr>\n",
              "    <tr>\n",
              "      <th>3</th>\n",
              "      <td>2018-09-23</td>\n",
              "      <td>3985962</td>\n",
              "    </tr>\n",
              "    <tr>\n",
              "      <th>4</th>\n",
              "      <td>2019-08-20</td>\n",
              "      <td>4192111</td>\n",
              "    </tr>\n",
              "    <tr>\n",
              "      <th>...</th>\n",
              "      <td>...</td>\n",
              "      <td>...</td>\n",
              "    </tr>\n",
              "    <tr>\n",
              "      <th>238517</th>\n",
              "      <td>2018-01-20</td>\n",
              "      <td>3832275</td>\n",
              "    </tr>\n",
              "    <tr>\n",
              "      <th>238518</th>\n",
              "      <td>2018-01-04</td>\n",
              "      <td>3822315</td>\n",
              "    </tr>\n",
              "    <tr>\n",
              "      <th>238519</th>\n",
              "      <td>2018-01-20</td>\n",
              "      <td>3832513</td>\n",
              "    </tr>\n",
              "    <tr>\n",
              "      <th>238520</th>\n",
              "      <td>2018-01-29</td>\n",
              "      <td>3837608</td>\n",
              "    </tr>\n",
              "    <tr>\n",
              "      <th>238521</th>\n",
              "      <td>2018-01-23</td>\n",
              "      <td>3833631</td>\n",
              "    </tr>\n",
              "  </tbody>\n",
              "</table>\n",
              "<p>238522 rows × 2 columns</p>\n",
              "</div>"
            ],
            "text/plain": [
              "             DATE  COLLISION_ID\n",
              "0      2018-09-26       3988123\n",
              "1      2018-09-25       3987962\n",
              "2      2019-08-22       4193132\n",
              "3      2018-09-23       3985962\n",
              "4      2019-08-20       4192111\n",
              "...           ...           ...\n",
              "238517 2018-01-20       3832275\n",
              "238518 2018-01-04       3822315\n",
              "238519 2018-01-20       3832513\n",
              "238520 2018-01-29       3837608\n",
              "238521 2018-01-23       3833631\n",
              "\n",
              "[238522 rows x 2 columns]"
            ]
          },
          "metadata": {},
          "execution_count": 38
        }
      ]
    },
    {
      "cell_type": "markdown",
      "metadata": {
        "id": "WcaW0imNT6cU"
      },
      "source": [
        "### Exercise 4 (30 min):\n",
        "¿Cómo varía el número de accidentes a lo largo de un solo día? Cree una nueva columna `HOUR` basada en los datos de la columna `TIME`, luego trace un gráfico de barras de la distribución por hora a lo largo del día.\n",
        "\n",
        "**Sugerencia:** Puede encontrar útil la función ```dt.hour```."
      ]
    },
    {
      "cell_type": "markdown",
      "metadata": {
        "id": "ATrkv1G3T6cU"
      },
      "source": [
        "**Answer.**"
      ]
    },
    {
      "cell_type": "code",
      "metadata": {
        "colab": {
          "base_uri": "https://localhost:8080/",
          "height": 930
        },
        "id": "XA9r7-xoT6cV",
        "outputId": "a01e8dba-b41e-42c9-cd0e-10400bd2701f"
      },
      "source": [
        "df['TIME']= pd.to_datetime(df['TIME'])\n",
        "df['HOUR']= df['TIME'].dt.hour\n",
        "df\n"
      ],
      "execution_count": null,
      "outputs": [
        {
          "output_type": "execute_result",
          "data": {
            "text/html": [
              "<div>\n",
              "<style scoped>\n",
              "    .dataframe tbody tr th:only-of-type {\n",
              "        vertical-align: middle;\n",
              "    }\n",
              "\n",
              "    .dataframe tbody tr th {\n",
              "        vertical-align: top;\n",
              "    }\n",
              "\n",
              "    .dataframe thead th {\n",
              "        text-align: right;\n",
              "    }\n",
              "</style>\n",
              "<table border=\"1\" class=\"dataframe\">\n",
              "  <thead>\n",
              "    <tr style=\"text-align: right;\">\n",
              "      <th></th>\n",
              "      <th>DATE</th>\n",
              "      <th>TIME</th>\n",
              "      <th>BOROUGH</th>\n",
              "      <th>ZIP CODE</th>\n",
              "      <th>LATITUDE</th>\n",
              "      <th>LONGITUDE</th>\n",
              "      <th>ON STREET NAME</th>\n",
              "      <th>NUMBER OF PEDESTRIANS INJURED</th>\n",
              "      <th>NUMBER OF PEDESTRIANS KILLED</th>\n",
              "      <th>NUMBER OF CYCLIST INJURED</th>\n",
              "      <th>NUMBER OF CYCLIST KILLED</th>\n",
              "      <th>NUMBER OF MOTORIST INJURED</th>\n",
              "      <th>NUMBER OF MOTORIST KILLED</th>\n",
              "      <th>CONTRIBUTING FACTOR VEHICLE 1</th>\n",
              "      <th>CONTRIBUTING FACTOR VEHICLE 2</th>\n",
              "      <th>CONTRIBUTING FACTOR VEHICLE 3</th>\n",
              "      <th>CONTRIBUTING FACTOR VEHICLE 4</th>\n",
              "      <th>CONTRIBUTING FACTOR VEHICLE 5</th>\n",
              "      <th>COLLISION_ID</th>\n",
              "      <th>VEHICLE TYPE CODE 1</th>\n",
              "      <th>VEHICLE TYPE CODE 2</th>\n",
              "      <th>VEHICLE TYPE CODE 3</th>\n",
              "      <th>VEHICLE TYPE CODE 4</th>\n",
              "      <th>VEHICLE TYPE CODE 5</th>\n",
              "      <th>HOUR</th>\n",
              "    </tr>\n",
              "  </thead>\n",
              "  <tbody>\n",
              "    <tr>\n",
              "      <th>0</th>\n",
              "      <td>2018-09-26</td>\n",
              "      <td>2021-10-03 12:12:00</td>\n",
              "      <td>BRONX</td>\n",
              "      <td>10454.0</td>\n",
              "      <td>40.808987</td>\n",
              "      <td>-73.911316</td>\n",
              "      <td>NaN</td>\n",
              "      <td>0</td>\n",
              "      <td>0</td>\n",
              "      <td>0</td>\n",
              "      <td>0</td>\n",
              "      <td>0</td>\n",
              "      <td>0</td>\n",
              "      <td>Unspecified</td>\n",
              "      <td>NaN</td>\n",
              "      <td>NaN</td>\n",
              "      <td>NaN</td>\n",
              "      <td>NaN</td>\n",
              "      <td>3988123</td>\n",
              "      <td>Sedan</td>\n",
              "      <td>NaN</td>\n",
              "      <td>NaN</td>\n",
              "      <td>NaN</td>\n",
              "      <td>NaN</td>\n",
              "      <td>12</td>\n",
              "    </tr>\n",
              "    <tr>\n",
              "      <th>1</th>\n",
              "      <td>2018-09-25</td>\n",
              "      <td>2021-10-03 16:30:00</td>\n",
              "      <td>BROOKLYN</td>\n",
              "      <td>11236.0</td>\n",
              "      <td>40.636005</td>\n",
              "      <td>-73.912510</td>\n",
              "      <td>FLATLANDS AVENUE</td>\n",
              "      <td>1</td>\n",
              "      <td>0</td>\n",
              "      <td>0</td>\n",
              "      <td>0</td>\n",
              "      <td>0</td>\n",
              "      <td>0</td>\n",
              "      <td>Unspecified</td>\n",
              "      <td>NaN</td>\n",
              "      <td>NaN</td>\n",
              "      <td>NaN</td>\n",
              "      <td>NaN</td>\n",
              "      <td>3987962</td>\n",
              "      <td>Sedan</td>\n",
              "      <td>NaN</td>\n",
              "      <td>NaN</td>\n",
              "      <td>NaN</td>\n",
              "      <td>NaN</td>\n",
              "      <td>16</td>\n",
              "    </tr>\n",
              "    <tr>\n",
              "      <th>2</th>\n",
              "      <td>2019-08-22</td>\n",
              "      <td>2021-10-03 19:30:00</td>\n",
              "      <td>QUEENS</td>\n",
              "      <td>11101.0</td>\n",
              "      <td>40.755490</td>\n",
              "      <td>-73.939530</td>\n",
              "      <td>NaN</td>\n",
              "      <td>0</td>\n",
              "      <td>0</td>\n",
              "      <td>0</td>\n",
              "      <td>0</td>\n",
              "      <td>0</td>\n",
              "      <td>0</td>\n",
              "      <td>Unspecified</td>\n",
              "      <td>NaN</td>\n",
              "      <td>NaN</td>\n",
              "      <td>NaN</td>\n",
              "      <td>NaN</td>\n",
              "      <td>4193132</td>\n",
              "      <td>Sedan</td>\n",
              "      <td>NaN</td>\n",
              "      <td>NaN</td>\n",
              "      <td>NaN</td>\n",
              "      <td>NaN</td>\n",
              "      <td>19</td>\n",
              "    </tr>\n",
              "    <tr>\n",
              "      <th>3</th>\n",
              "      <td>2018-09-23</td>\n",
              "      <td>2021-10-03 13:10:00</td>\n",
              "      <td>QUEENS</td>\n",
              "      <td>11367.0</td>\n",
              "      <td>NaN</td>\n",
              "      <td>NaN</td>\n",
              "      <td>MAIN STREET</td>\n",
              "      <td>0</td>\n",
              "      <td>0</td>\n",
              "      <td>1</td>\n",
              "      <td>0</td>\n",
              "      <td>0</td>\n",
              "      <td>0</td>\n",
              "      <td>Driver Inattention/Distraction</td>\n",
              "      <td>Unspecified</td>\n",
              "      <td>NaN</td>\n",
              "      <td>NaN</td>\n",
              "      <td>NaN</td>\n",
              "      <td>3985962</td>\n",
              "      <td>Bike</td>\n",
              "      <td>Station Wagon/Sport Utility Vehicle</td>\n",
              "      <td>NaN</td>\n",
              "      <td>NaN</td>\n",
              "      <td>NaN</td>\n",
              "      <td>13</td>\n",
              "    </tr>\n",
              "    <tr>\n",
              "      <th>4</th>\n",
              "      <td>2019-08-20</td>\n",
              "      <td>2021-10-03 22:40:00</td>\n",
              "      <td>BRONX</td>\n",
              "      <td>10468.0</td>\n",
              "      <td>40.868336</td>\n",
              "      <td>-73.901270</td>\n",
              "      <td>NaN</td>\n",
              "      <td>0</td>\n",
              "      <td>0</td>\n",
              "      <td>0</td>\n",
              "      <td>0</td>\n",
              "      <td>1</td>\n",
              "      <td>0</td>\n",
              "      <td>View Obstructed/Limited</td>\n",
              "      <td>Unspecified</td>\n",
              "      <td>NaN</td>\n",
              "      <td>NaN</td>\n",
              "      <td>NaN</td>\n",
              "      <td>4192111</td>\n",
              "      <td>Sedan</td>\n",
              "      <td>Sedan</td>\n",
              "      <td>NaN</td>\n",
              "      <td>NaN</td>\n",
              "      <td>NaN</td>\n",
              "      <td>22</td>\n",
              "    </tr>\n",
              "    <tr>\n",
              "      <th>...</th>\n",
              "      <td>...</td>\n",
              "      <td>...</td>\n",
              "      <td>...</td>\n",
              "      <td>...</td>\n",
              "      <td>...</td>\n",
              "      <td>...</td>\n",
              "      <td>...</td>\n",
              "      <td>...</td>\n",
              "      <td>...</td>\n",
              "      <td>...</td>\n",
              "      <td>...</td>\n",
              "      <td>...</td>\n",
              "      <td>...</td>\n",
              "      <td>...</td>\n",
              "      <td>...</td>\n",
              "      <td>...</td>\n",
              "      <td>...</td>\n",
              "      <td>...</td>\n",
              "      <td>...</td>\n",
              "      <td>...</td>\n",
              "      <td>...</td>\n",
              "      <td>...</td>\n",
              "      <td>...</td>\n",
              "      <td>...</td>\n",
              "      <td>...</td>\n",
              "    </tr>\n",
              "    <tr>\n",
              "      <th>238517</th>\n",
              "      <td>2018-01-20</td>\n",
              "      <td>2021-10-03 15:00:00</td>\n",
              "      <td>QUEENS</td>\n",
              "      <td>11436.0</td>\n",
              "      <td>40.685356</td>\n",
              "      <td>-73.797230</td>\n",
              "      <td>LINDEN BOULEVARD</td>\n",
              "      <td>0</td>\n",
              "      <td>0</td>\n",
              "      <td>0</td>\n",
              "      <td>0</td>\n",
              "      <td>0</td>\n",
              "      <td>0</td>\n",
              "      <td>Driver Inattention/Distraction</td>\n",
              "      <td>Unspecified</td>\n",
              "      <td>NaN</td>\n",
              "      <td>NaN</td>\n",
              "      <td>NaN</td>\n",
              "      <td>3832275</td>\n",
              "      <td>SPORT UTILITY / STATION WAGON</td>\n",
              "      <td>PASSENGER VEHICLE</td>\n",
              "      <td>NaN</td>\n",
              "      <td>NaN</td>\n",
              "      <td>NaN</td>\n",
              "      <td>15</td>\n",
              "    </tr>\n",
              "    <tr>\n",
              "      <th>238518</th>\n",
              "      <td>2018-01-04</td>\n",
              "      <td>2021-10-03 14:00:00</td>\n",
              "      <td>BRONX</td>\n",
              "      <td>10452.0</td>\n",
              "      <td>40.845180</td>\n",
              "      <td>-73.914170</td>\n",
              "      <td>JEROME AVENUE</td>\n",
              "      <td>0</td>\n",
              "      <td>0</td>\n",
              "      <td>0</td>\n",
              "      <td>0</td>\n",
              "      <td>0</td>\n",
              "      <td>0</td>\n",
              "      <td>Pavement Slippery</td>\n",
              "      <td>NaN</td>\n",
              "      <td>NaN</td>\n",
              "      <td>NaN</td>\n",
              "      <td>NaN</td>\n",
              "      <td>3822315</td>\n",
              "      <td>SPORT UTILITY / STATION WAGON</td>\n",
              "      <td>NaN</td>\n",
              "      <td>NaN</td>\n",
              "      <td>NaN</td>\n",
              "      <td>NaN</td>\n",
              "      <td>14</td>\n",
              "    </tr>\n",
              "    <tr>\n",
              "      <th>238519</th>\n",
              "      <td>2018-01-20</td>\n",
              "      <td>2021-10-03 13:05:00</td>\n",
              "      <td>BRONX</td>\n",
              "      <td>10462.0</td>\n",
              "      <td>40.831210</td>\n",
              "      <td>-73.850876</td>\n",
              "      <td>CASTLE HILL AVENUE</td>\n",
              "      <td>0</td>\n",
              "      <td>0</td>\n",
              "      <td>0</td>\n",
              "      <td>0</td>\n",
              "      <td>0</td>\n",
              "      <td>0</td>\n",
              "      <td>Unsafe Lane Changing</td>\n",
              "      <td>Unspecified</td>\n",
              "      <td>NaN</td>\n",
              "      <td>NaN</td>\n",
              "      <td>NaN</td>\n",
              "      <td>3832513</td>\n",
              "      <td>PASSENGER VEHICLE</td>\n",
              "      <td>SPORT UTILITY / STATION WAGON</td>\n",
              "      <td>NaN</td>\n",
              "      <td>NaN</td>\n",
              "      <td>NaN</td>\n",
              "      <td>13</td>\n",
              "    </tr>\n",
              "    <tr>\n",
              "      <th>238520</th>\n",
              "      <td>2018-01-29</td>\n",
              "      <td>2021-10-03 17:45:00</td>\n",
              "      <td>QUEENS</td>\n",
              "      <td>11377.0</td>\n",
              "      <td>40.757250</td>\n",
              "      <td>-73.904854</td>\n",
              "      <td>31 AVENUE</td>\n",
              "      <td>0</td>\n",
              "      <td>0</td>\n",
              "      <td>0</td>\n",
              "      <td>0</td>\n",
              "      <td>2</td>\n",
              "      <td>0</td>\n",
              "      <td>Failure to Yield Right-of-Way</td>\n",
              "      <td>Unspecified</td>\n",
              "      <td>NaN</td>\n",
              "      <td>NaN</td>\n",
              "      <td>NaN</td>\n",
              "      <td>3837608</td>\n",
              "      <td>SPORT UTILITY / STATION WAGON</td>\n",
              "      <td>PASSENGER VEHICLE</td>\n",
              "      <td>NaN</td>\n",
              "      <td>NaN</td>\n",
              "      <td>NaN</td>\n",
              "      <td>17</td>\n",
              "    </tr>\n",
              "    <tr>\n",
              "      <th>238521</th>\n",
              "      <td>2018-01-23</td>\n",
              "      <td>2021-10-03 16:38:00</td>\n",
              "      <td>BROOKLYN</td>\n",
              "      <td>11211.0</td>\n",
              "      <td>40.710197</td>\n",
              "      <td>-73.958430</td>\n",
              "      <td>HAVEMEYER STREET</td>\n",
              "      <td>0</td>\n",
              "      <td>0</td>\n",
              "      <td>0</td>\n",
              "      <td>0</td>\n",
              "      <td>0</td>\n",
              "      <td>0</td>\n",
              "      <td>Following Too Closely</td>\n",
              "      <td>Passing or Lane Usage Improper</td>\n",
              "      <td>NaN</td>\n",
              "      <td>NaN</td>\n",
              "      <td>NaN</td>\n",
              "      <td>3833631</td>\n",
              "      <td>SPORT UTILITY / STATION WAGON</td>\n",
              "      <td>SPORT UTILITY / STATION WAGON</td>\n",
              "      <td>NaN</td>\n",
              "      <td>NaN</td>\n",
              "      <td>NaN</td>\n",
              "      <td>16</td>\n",
              "    </tr>\n",
              "  </tbody>\n",
              "</table>\n",
              "<p>238522 rows × 25 columns</p>\n",
              "</div>"
            ],
            "text/plain": [
              "             DATE                TIME  ... VEHICLE TYPE CODE 5  HOUR\n",
              "0      2018-09-26 2021-10-03 12:12:00  ...                 NaN    12\n",
              "1      2018-09-25 2021-10-03 16:30:00  ...                 NaN    16\n",
              "2      2019-08-22 2021-10-03 19:30:00  ...                 NaN    19\n",
              "3      2018-09-23 2021-10-03 13:10:00  ...                 NaN    13\n",
              "4      2019-08-20 2021-10-03 22:40:00  ...                 NaN    22\n",
              "...           ...                 ...  ...                 ...   ...\n",
              "238517 2018-01-20 2021-10-03 15:00:00  ...                 NaN    15\n",
              "238518 2018-01-04 2021-10-03 14:00:00  ...                 NaN    14\n",
              "238519 2018-01-20 2021-10-03 13:05:00  ...                 NaN    13\n",
              "238520 2018-01-29 2021-10-03 17:45:00  ...                 NaN    17\n",
              "238521 2018-01-23 2021-10-03 16:38:00  ...                 NaN    16\n",
              "\n",
              "[238522 rows x 25 columns]"
            ]
          },
          "metadata": {},
          "execution_count": 30
        }
      ]
    },
    {
      "cell_type": "markdown",
      "metadata": {
        "id": "DSUgrU7ST6cV"
      },
      "source": [
        ""
      ]
    },
    {
      "cell_type": "code",
      "metadata": {
        "id": "WBguIdxDyC6R"
      },
      "source": [
        "th_accidents_xdia= df.groupby('HOUR').agg(accidents=('HOUR','count'))"
      ],
      "execution_count": null,
      "outputs": []
    },
    {
      "cell_type": "code",
      "metadata": {
        "colab": {
          "base_uri": "https://localhost:8080/",
          "height": 299
        },
        "id": "SINExgWiyr7q",
        "outputId": "226163db-e97f-40a0-ad14-896d2e2b73d9"
      },
      "source": [
        "th_accidents_xdia.plot.bar()"
      ],
      "execution_count": null,
      "outputs": [
        {
          "output_type": "execute_result",
          "data": {
            "text/plain": [
              "<matplotlib.axes._subplots.AxesSubplot at 0x7fbd24ce2210>"
            ]
          },
          "metadata": {},
          "execution_count": 44
        },
        {
          "output_type": "display_data",
          "data": {
            "image/png": "[encoded data removed]",
            "text/plain": [
              "<Figure size 432x288 with 1 Axes>"
            ]
          },
          "metadata": {
            "needs_background": "light"
          }
        }
      ]
    },
    {
      "cell_type": "markdown",
      "metadata": {
        "id": "G4WdCp__T6cV"
      },
      "source": [
        "### Exercise 5 (15 min):\n",
        "\n",
        "En la pregunta anterior hemos agregado el número de accidentes por hora sin tener en cuenta la fecha y el lugar en que ocurrieron. ¿Qué crítica le daría a este enfoque?"
      ]
    },
    {
      "cell_type": "code",
      "metadata": {
        "id": "oyZFaw5Wyqp2"
      },
      "source": [
        "# a veces la fechas son importantes tambien para determinar los accidentes en que temporada del año ocurren mas "
      ],
      "execution_count": null,
      "outputs": []
    },
    {
      "cell_type": "markdown",
      "metadata": {
        "id": "tnYKfl7nT6cW"
      },
      "source": [
        "**Answer.** \n"
      ]
    },
    {
      "cell_type": "code",
      "metadata": {
        "id": "sohGHtjVT6cX"
      },
      "source": [
        ""
      ],
      "execution_count": null,
      "outputs": []
    },
    {
      "cell_type": "markdown",
      "metadata": {
        "id": "eyGssPwST6cX"
      },
      "source": [
        "### Exercise 6 (15 min):\n",
        "\n",
        "¿Cómo varía el número de accidentes en una sola semana? Trace un gráfico de barras basado en el recuento de accidentes por día de la semana.\n",
        "\n",
        "**Sugerencia:** Puede encontrar útil la función ```dt.weekday```."
      ]
    },
    {
      "cell_type": "markdown",
      "metadata": {
        "id": "VXHX1mYXT6cY"
      },
      "source": [
        "**Answer.**"
      ]
    },
    {
      "cell_type": "code",
      "metadata": {
        "colab": {
          "base_uri": "https://localhost:8080/"
        },
        "id": "RZjJkkMRT6cY",
        "outputId": "cd593426-e58f-45c4-bd6c-7020f12b1271"
      },
      "source": [
        "df['WEEK']= df['DATE'].dt.weekday\n",
        "df['WEEK']"
      ],
      "execution_count": null,
      "outputs": [
        {
          "output_type": "execute_result",
          "data": {
            "text/plain": [
              "0         2\n",
              "1         1\n",
              "2         3\n",
              "3         6\n",
              "4         1\n",
              "         ..\n",
              "238517    5\n",
              "238518    3\n",
              "238519    5\n",
              "238520    0\n",
              "238521    1\n",
              "Name: WEEK, Length: 238522, dtype: int64"
            ]
          },
          "metadata": {},
          "execution_count": 46
        }
      ]
    },
    {
      "cell_type": "code",
      "metadata": {
        "colab": {
          "base_uri": "https://localhost:8080/",
          "height": 293
        },
        "id": "21XIgXNp5Bze",
        "outputId": "ca098289-f1b3-4470-9e45-06953fb3ade0"
      },
      "source": [
        "lp_accidents_seme= (df.groupby('WEEK').agg(accidents=('WEEK','count')))\n",
        "lp_accidents_seme.plot.bar()"
      ],
      "execution_count": null,
      "outputs": [
        {
          "output_type": "execute_result",
          "data": {
            "text/plain": [
              "<matplotlib.axes._subplots.AxesSubplot at 0x7fbd24cd3450>"
            ]
          },
          "metadata": {},
          "execution_count": 53
        },
        {
          "output_type": "display_data",
          "data": {
            "image/png": "[encoded data removed]",
            "text/plain": [
              "<Figure size 432x288 with 1 Axes>"
            ]
          },
          "metadata": {
            "needs_background": "light"
          }
        }
      ]
    },
    {
      "cell_type": "markdown",
      "metadata": {
        "id": "yK6DFiBbT6cY"
      },
      "source": [
        ""
      ]
    },
    {
      "cell_type": "code",
      "metadata": {
        "colab": {
          "base_uri": "https://localhost:8080/"
        },
        "id": "ad0u-nisJDAp",
        "outputId": "0c7cf215-f361-475f-84bb-fb51e765733e"
      },
      "source": [
        "df.info()"
      ],
      "execution_count": null,
      "outputs": [
        {
          "output_type": "stream",
          "name": "stdout",
          "text": [
            "<class 'pandas.core.frame.DataFrame'>\n",
            "RangeIndex: 238522 entries, 0 to 238521\n",
            "Data columns (total 25 columns):\n",
            " #   Column                         Non-Null Count   Dtype         \n",
            "---  ------                         --------------   -----         \n",
            " 0   DATE                           238522 non-null  datetime64[ns]\n",
            " 1   TIME                           238522 non-null  datetime64[ns]\n",
            " 2   BOROUGH                        238522 non-null  object        \n",
            " 3   ZIP CODE                       238452 non-null  float64       \n",
            " 4   LATITUDE                       231544 non-null  float64       \n",
            " 5   LONGITUDE                      231544 non-null  float64       \n",
            " 6   ON STREET NAME                 153918 non-null  object        \n",
            " 7   NUMBER OF PEDESTRIANS INJURED  238522 non-null  int64         \n",
            " 8   NUMBER OF PEDESTRIANS KILLED   238522 non-null  int64         \n",
            " 9   NUMBER OF CYCLIST INJURED      238522 non-null  int64         \n",
            " 10  NUMBER OF CYCLIST KILLED       238522 non-null  int64         \n",
            " 11  NUMBER OF MOTORIST INJURED     238522 non-null  int64         \n",
            " 12  NUMBER OF MOTORIST KILLED      238522 non-null  int64         \n",
            " 13  CONTRIBUTING FACTOR VEHICLE 1  237638 non-null  object        \n",
            " 14  CONTRIBUTING FACTOR VEHICLE 2  198514 non-null  object        \n",
            " 15  CONTRIBUTING FACTOR VEHICLE 3  13072 non-null   object        \n",
            " 16  CONTRIBUTING FACTOR VEHICLE 4  2856 non-null    object        \n",
            " 17  CONTRIBUTING FACTOR VEHICLE 5  792 non-null     object        \n",
            " 18  COLLISION_ID                   238522 non-null  int64         \n",
            " 19  VEHICLE TYPE CODE 1            236801 non-null  object        \n",
            " 20  VEHICLE TYPE CODE 2            182932 non-null  object        \n",
            " 21  VEHICLE TYPE CODE 3            12301 non-null   object        \n",
            " 22  VEHICLE TYPE CODE 4            2716 non-null    object        \n",
            " 23  VEHICLE TYPE CODE 5            753 non-null     object        \n",
            " 24  HOUR                           238522 non-null  int64         \n",
            "dtypes: datetime64[ns](2), float64(3), int64(8), object(12)\n",
            "memory usage: 45.5+ MB\n"
          ]
        }
      ]
    },
    {
      "cell_type": "markdown",
      "metadata": {
        "id": "_w-BLgD3T6cZ"
      },
      "source": [
        "### Exercise 7 (30 min):\n",
        "\n",
        "Trace una gráfica de barras del número total de accidentes en cada municipio, así como uno de los accidentes por milla cuadrada por municipio. ¿Qué puedes concluir?\n",
        "\n",
        "**Sugerencia:** Es posible que desee actualizar algunas de las claves en el diccionario del municipio para que coincidan con los nombres en el marco de datos."
      ]
    },
    {
      "cell_type": "markdown",
      "metadata": {
        "id": "8rMxqLg7T6cZ"
      },
      "source": [
        "**Answer.**"
      ]
    },
    {
      "cell_type": "code",
      "metadata": {
        "id": "Ztrs57f4T6ca",
        "colab": {
          "base_uri": "https://localhost:8080/",
          "height": 238
        },
        "outputId": "89c5b5a6-3c66-4311-ac59-24457d9850e8"
      },
      "source": [
        "accidents_municipio= (df.groupby('BOROUGH').agg(accidents=('BOROUGH','count')))\n",
        "\n",
        "accidents_municipio"
      ],
      "execution_count": 35,
      "outputs": [
        {
          "output_type": "execute_result",
          "data": {
            "text/html": [
              "<div>\n",
              "<style scoped>\n",
              "    .dataframe tbody tr th:only-of-type {\n",
              "        vertical-align: middle;\n",
              "    }\n",
              "\n",
              "    .dataframe tbody tr th {\n",
              "        vertical-align: top;\n",
              "    }\n",
              "\n",
              "    .dataframe thead th {\n",
              "        text-align: right;\n",
              "    }\n",
              "</style>\n",
              "<table border=\"1\" class=\"dataframe\">\n",
              "  <thead>\n",
              "    <tr style=\"text-align: right;\">\n",
              "      <th></th>\n",
              "      <th>accidents</th>\n",
              "    </tr>\n",
              "    <tr>\n",
              "      <th>BOROUGH</th>\n",
              "      <th></th>\n",
              "    </tr>\n",
              "  </thead>\n",
              "  <tbody>\n",
              "    <tr>\n",
              "      <th>BRONX</th>\n",
              "      <td>37709</td>\n",
              "    </tr>\n",
              "    <tr>\n",
              "      <th>BROOKLYN</th>\n",
              "      <td>76253</td>\n",
              "    </tr>\n",
              "    <tr>\n",
              "      <th>MANHATTAN</th>\n",
              "      <td>48749</td>\n",
              "    </tr>\n",
              "    <tr>\n",
              "      <th>QUEENS</th>\n",
              "      <td>67120</td>\n",
              "    </tr>\n",
              "    <tr>\n",
              "      <th>STATEN ISLAND</th>\n",
              "      <td>8691</td>\n",
              "    </tr>\n",
              "  </tbody>\n",
              "</table>\n",
              "</div>"
            ],
            "text/plain": [
              "               accidents\n",
              "BOROUGH                 \n",
              "BRONX              37709\n",
              "BROOKLYN           76253\n",
              "MANHATTAN          48749\n",
              "QUEENS             67120\n",
              "STATEN ISLAND       8691"
            ]
          },
          "metadata": {},
          "execution_count": 35
        }
      ]
    },
    {
      "cell_type": "markdown",
      "metadata": {
        "id": "LEdYFgcST6ca"
      },
      "source": [
        ""
      ]
    },
    {
      "cell_type": "code",
      "metadata": {
        "id": "dh_L9CavT6ca",
        "colab": {
          "base_uri": "https://localhost:8080/",
          "height": 368
        },
        "outputId": "39b9c97a-fac2-4dc7-cad8-aec32be6643f"
      },
      "source": [
        "accidents_municipio.plot.bar()"
      ],
      "execution_count": null,
      "outputs": [
        {
          "output_type": "execute_result",
          "data": {
            "text/plain": [
              "<matplotlib.axes._subplots.AxesSubplot at 0x7fbd24934d50>"
            ]
          },
          "metadata": {},
          "execution_count": 95
        },
        {
          "output_type": "display_data",
          "data": {
            "image/png": "[encoded data removed]",
            "text/plain": [
              "<Figure size 432x288 with 1 Axes>"
            ]
          },
          "metadata": {
            "needs_background": "light"
          }
        }
      ]
    },
    {
      "cell_type": "markdown",
      "metadata": {
        "id": "zs4XK3H6T6ca"
      },
      "source": [
        ""
      ]
    },
    {
      "cell_type": "code",
      "metadata": {
        "scrolled": true,
        "id": "CrktIE2iT6cb"
      },
      "source": [
        ""
      ],
      "execution_count": null,
      "outputs": []
    },
    {
      "cell_type": "markdown",
      "metadata": {
        "id": "Rqidic74T6cb"
      },
      "source": [
        ""
      ]
    },
    {
      "cell_type": "markdown",
      "metadata": {
        "id": "16OQ6uWZT6cb"
      },
      "source": [
        "### Exercise 8 (30 min):\n",
        "\n",
        "¿Qué horas tienen más accidentes en cada municipio? Trace un gráfico de barras para cada municipio que muestre el número de accidentes por cada hora del día.\n",
        "\n",
        "**Sugerencia:** Puede usar ```sns.FacetGrid``` para crear una cuadrícula de parcelas con los datos por hora de cada municipio."
      ]
    },
    {
      "cell_type": "markdown",
      "metadata": {
        "id": "zAiy6hMgT6cc"
      },
      "source": [
        "**Answer.**"
      ]
    },
    {
      "cell_type": "code",
      "metadata": {
        "id": "N_mNlXjMT6cc"
      },
      "source": [
        "import pandas as pd\n",
        "from pandas import Series, DataFrame\n",
        "import seaborn as sns\n"
      ],
      "execution_count": 41,
      "outputs": []
    },
    {
      "cell_type": "code",
      "metadata": {
        "colab": {
          "base_uri": "https://localhost:8080/",
          "height": 455
        },
        "id": "b5tUARPBRHVY",
        "outputId": "bf244a4f-6f7f-4928-d102-b54992a0f88a"
      },
      "source": [
        "df= pd.DataFrame({'Accidents': df.groupby(['BOROUGH','HOUR']).size()})\n",
        "df"
      ],
      "execution_count": 42,
      "outputs": [
        {
          "output_type": "execute_result",
          "data": {
            "text/html": [
              "<div>\n",
              "<style scoped>\n",
              "    .dataframe tbody tr th:only-of-type {\n",
              "        vertical-align: middle;\n",
              "    }\n",
              "\n",
              "    .dataframe tbody tr th {\n",
              "        vertical-align: top;\n",
              "    }\n",
              "\n",
              "    .dataframe thead th {\n",
              "        text-align: right;\n",
              "    }\n",
              "</style>\n",
              "<table border=\"1\" class=\"dataframe\">\n",
              "  <thead>\n",
              "    <tr style=\"text-align: right;\">\n",
              "      <th></th>\n",
              "      <th></th>\n",
              "      <th>Accidents</th>\n",
              "    </tr>\n",
              "    <tr>\n",
              "      <th>BOROUGH</th>\n",
              "      <th>HOUR</th>\n",
              "      <th></th>\n",
              "    </tr>\n",
              "  </thead>\n",
              "  <tbody>\n",
              "    <tr>\n",
              "      <th rowspan=\"5\" valign=\"top\">BRONX</th>\n",
              "      <th>0</th>\n",
              "      <td>1329</td>\n",
              "    </tr>\n",
              "    <tr>\n",
              "      <th>1</th>\n",
              "      <td>529</td>\n",
              "    </tr>\n",
              "    <tr>\n",
              "      <th>2</th>\n",
              "      <td>402</td>\n",
              "    </tr>\n",
              "    <tr>\n",
              "      <th>3</th>\n",
              "      <td>361</td>\n",
              "    </tr>\n",
              "    <tr>\n",
              "      <th>4</th>\n",
              "      <td>418</td>\n",
              "    </tr>\n",
              "    <tr>\n",
              "      <th>...</th>\n",
              "      <th>...</th>\n",
              "      <td>...</td>\n",
              "    </tr>\n",
              "    <tr>\n",
              "      <th rowspan=\"5\" valign=\"top\">STATEN ISLAND</th>\n",
              "      <th>19</th>\n",
              "      <td>415</td>\n",
              "    </tr>\n",
              "    <tr>\n",
              "      <th>20</th>\n",
              "      <td>367</td>\n",
              "    </tr>\n",
              "    <tr>\n",
              "      <th>21</th>\n",
              "      <td>268</td>\n",
              "    </tr>\n",
              "    <tr>\n",
              "      <th>22</th>\n",
              "      <td>224</td>\n",
              "    </tr>\n",
              "    <tr>\n",
              "      <th>23</th>\n",
              "      <td>174</td>\n",
              "    </tr>\n",
              "  </tbody>\n",
              "</table>\n",
              "<p>120 rows × 1 columns</p>\n",
              "</div>"
            ],
            "text/plain": [
              "                    Accidents\n",
              "BOROUGH       HOUR           \n",
              "BRONX         0          1329\n",
              "              1           529\n",
              "              2           402\n",
              "              3           361\n",
              "              4           418\n",
              "...                       ...\n",
              "STATEN ISLAND 19          415\n",
              "              20          367\n",
              "              21          268\n",
              "              22          224\n",
              "              23          174\n",
              "\n",
              "[120 rows x 1 columns]"
            ]
          },
          "metadata": {},
          "execution_count": 42
        }
      ]
    },
    {
      "cell_type": "markdown",
      "metadata": {
        "id": "Qs_s2s5OT6cc"
      },
      "source": [
        "**¿Es mayor el número de accidentes en diferentes momentos en diferentes distritos? ¿Deberíamos concentrarnos en diferentes momentos para cada municipio?**"
      ]
    },
    {
      "cell_type": "markdown",
      "metadata": {
        "id": "LoO1TimAT6cd"
      },
      "source": [
        ""
      ]
    },
    {
      "cell_type": "markdown",
      "metadata": {
        "id": "WxiZ30kwT6cd"
      },
      "source": [
        "### Exercise 9 (45 min):\n",
        "\n",
        "¿Qué factores provocan la mayoría de los accidentes? Evite contar dos veces los factores que contribuyen a un solo accidente.\n",
        "\n",
        "**Sugerencia:** Una forma de lidiar con las repeticiones es concatenar las columnas correspondientes conservando sus índices, puede hacerlo con las funciones ```pd.concat()``` y ```reset_index()```. Luego, use un ```group_by``` apropiado para contar el número de repeticiones de factores contribuidos por accidente."
      ]
    },
    {
      "cell_type": "markdown",
      "metadata": {
        "id": "JQqgTSaDT6cd"
      },
      "source": [
        "**Answer**.\n"
      ]
    },
    {
      "cell_type": "code",
      "metadata": {
        "id": "rXWiEFuiT6ce"
      },
      "source": [
        ""
      ],
      "execution_count": null,
      "outputs": []
    },
    {
      "cell_type": "markdown",
      "metadata": {
        "id": "qlIp_5VuT6ce"
      },
      "source": [
        "### Exercise 10 (45 min):\n",
        "\n",
        "¿Qué tipos de vehículos están más involucrados en accidentes por municipio? Evite contar dos veces el tipo de vehículos presentes en un solo accidente.\n",
        "\n",
        "**Sugerencia:** Puede aplicar un enfoque similar al utilizado en la pregunta anterior."
      ]
    },
    {
      "cell_type": "markdown",
      "metadata": {
        "id": "HOKrDjodT6cf"
      },
      "source": [
        "**Answer.** "
      ]
    },
    {
      "cell_type": "code",
      "metadata": {
        "id": "NspvD1WuT6cf"
      },
      "source": [
        ""
      ],
      "execution_count": null,
      "outputs": []
    },
    {
      "cell_type": "markdown",
      "metadata": {
        "id": "tmYSKDrdT6cf"
      },
      "source": [
        ""
      ]
    },
    {
      "cell_type": "markdown",
      "metadata": {
        "id": "PTiQ2jRaT6cf"
      },
      "source": [
        "### Exercise 11 (15 min):\n",
        "\n",
        "En 2018 para una [entrevista](https://www.nytimes.com/2019/01/01/nyregion/traffic-deaths-decrease-nyc.html) con The New York Times, el alcalde de Blasio de Nueva York declaró que *'Vision Zero está funcionando claramente'*. Ese año, el número de muertes en accidentes de tráfico en Nueva York se redujo a un histórico 202. Sin embargo, según lo informado por [am New York Metro](https://www.amny.com/news/vision-zero-de-blasio- 1-30707464 /), el número de víctimas mortales ha aumentado un 30% en el primer trimestre de 2019 en comparación con el año anterior y el número de peatones y ciclistas heridos no ha experimentado ninguna mejora.\n",
        "\n",
        "¿Cómo utilizaría los datos proporcionados para comprender qué salió mal en el primer trimestre de 2019?\n",
        "\n",
        "\n",
        "> - [ ] Considere los accidentes del primer trimestre de 2019. Luego, busque las causas más comunes de accidentes en los que estuvieron involucrados peatones y ciclistas. Dé una recomendación basada únicamente en esta información.\n",
        "\n",
        "> - [ ] Cree un par de mapas de calor de los accidentes que involucraron a peatones y ciclistas lesionados / muertos en el primer trimestre de 2018 y 2019. Compare estos dos para ver si hay algún cambio en la concentración de accidentes. En áreas críticas, estudie el tipo de factores involucrados en los accidentes. Dé una recomendación para visitar estas áreas para estudiar más el problema.   \n",
        "\n",
        "> - [ ] Los datos proporcionados son insuficientes para mejorar nuestra comprensión de la situación.\n",
        "\n",
        "> - [ ] Ninguna de las anteriores. Haría lo siguiente: *aquí tu respuesta recomendada*."
      ]
    },
    {
      "cell_type": "markdown",
      "metadata": {
        "id": "zsgJcl8hT6cg"
      },
      "source": [
        "**Answer.**\n"
      ]
    },
    {
      "cell_type": "code",
      "metadata": {
        "id": "WsqySCUZT6cg"
      },
      "source": [
        ""
      ],
      "execution_count": null,
      "outputs": []
    },
    {
      "cell_type": "markdown",
      "metadata": {
        "id": "gRv39cupT6ch"
      },
      "source": [
        "### Exercise 12 (45 min):\n",
        "\n",
        "Calcula el número de muertes provocadas por cada tipo de vehículo. Trace un gráfico de barras para los 5 vehículos principales. ¿Qué vehículos están involucrados con mayor frecuencia en las muertes y cuánto más que los demás?\n",
        "\n",
        "**Por ejemplo,** si dos personas murieron en un accidente en el que estuvieron involucrados 5 vehículos: 4 son VEHÍCULOS DE PASAJEROS y 1 es un VAGÓN DEPORTIVO / ESTACIÓN. Luego, agregaríamos dos muertes a cada tipo de VEHÍCULO DE PASAJEROS y VAGÓN DE ESTACIÓN / SERVICIO DEPORTIVO.\n",
        "\n",
        "**Sugerencia:** Es posible que desee crear una nueva columna con el número total de muertes en el accidente. Para eso, puede encontrar útil la función ```.to_numpy()```. Luego, proceda como los ejercicios anteriores para evitar contabilizar dos veces el tipo de vehículos."
      ]
    },
    {
      "cell_type": "markdown",
      "metadata": {
        "id": "JVwyfNDvT6ch"
      },
      "source": [
        "**Answer.**"
      ]
    },
    {
      "cell_type": "code",
      "metadata": {
        "id": "Ta93ygdDT6ci"
      },
      "source": [
        ""
      ],
      "execution_count": null,
      "outputs": []
    },
    {
      "cell_type": "markdown",
      "metadata": {
        "id": "VyDi59TaT6ci"
      },
      "source": [
        ""
      ]
    },
    {
      "cell_type": "code",
      "metadata": {
        "id": "X04keEEBT6ci"
      },
      "source": [
        ""
      ],
      "execution_count": null,
      "outputs": []
    },
    {
      "cell_type": "markdown",
      "metadata": {
        "id": "J8CbxaB3T6ci"
      },
      "source": [
        ""
      ]
    }
  ]
}